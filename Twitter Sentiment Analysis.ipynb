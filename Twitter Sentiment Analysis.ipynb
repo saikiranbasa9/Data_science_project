{
 "cells": [
  {
   "cell_type": "markdown",
   "metadata": {},
   "source": [
    "# Importing packages "
   ]
  },
  {
   "cell_type": "code",
   "execution_count": 1,
   "metadata": {},
   "outputs": [],
   "source": [
    "import numpy as np\n",
    "import pandas as pd\n",
    "import warnings\n",
    "warnings.filterwarnings('ignore')\n",
    "import json"
   ]
  },
  {
   "cell_type": "markdown",
   "metadata": {},
   "source": [
    "# Importing Twitter API and Access"
   ]
  },
  {
   "cell_type": "code",
   "execution_count": 2,
   "metadata": {},
   "outputs": [],
   "source": [
    "import tweepy\n",
    "import openpyxl\n",
    "from tweepy import OAuthHandler"
   ]
  },
  {
   "cell_type": "markdown",
   "metadata": {},
   "source": [
    "# Credentials for twitter"
   ]
  },
  {
   "cell_type": "code",
   "execution_count": 3,
   "metadata": {},
   "outputs": [],
   "source": [
    "consumer_key = \"nucwiQk9GtsJfWFSGQjXFicnq\"\n",
    "consumer_secret = \"psbIvsTINgr6eEu89jMe2FwsOM28Cs3KaVLWUfBjADkAfFfhZV\"\n",
    "access_token = \"296102538-4rqAPJBZSl2dQW2Wd1qvciWfkNKFpv9GZ3IBp5t7\"\n",
    "access_token_secret = \"FoCmyrWsWVeyxjksdRwqujVyzQGT9tZVjRGqJoav021MU\""
   ]
  },
  {
   "cell_type": "markdown",
   "metadata": {},
   "source": [
    "# Calling API and working on it "
   ]
  },
  {
   "cell_type": "code",
   "execution_count": 4,
   "metadata": {},
   "outputs": [],
   "source": [
    "auth = tweepy.OAuthHandler(consumer_key, consumer_secret)\n",
    "auth.set_access_token(access_token, access_token_secret)\n",
    "api = tweepy.API(auth)"
   ]
  },
  {
   "cell_type": "code",
   "execution_count": 5,
   "metadata": {},
   "outputs": [
    {
     "name": "stdout",
     "output_type": "stream",
     "text": [
      "Status(_api=<tweepy.api.API object at 0x00000290CDC719D0>, _json={'created_at': 'Wed Jun 23 06:06:04 +0000 2021', 'id': 1407580697133453313, 'id_str': '1407580697133453313', 'full_text': 'TEXAS STATE BAR ASSOCIATION INVESTIGATING ABBOTT FOR ATTEMPTING TO REVERSE ELECTION \\nDid bogus claims of fraud amount to professional misconduct? Dismissing the voters will is normally punishable with immediate expulsion. #sedition\\nhttps://t.co/wsNEKiVkCg', 'truncated': False, 'display_text_range': [0, 255], 'entities': {'hashtags': [{'text': 'sedition', 'indices': [222, 231]}], 'symbols': [], 'user_mentions': [], 'urls': [{'url': 'https://t.co/wsNEKiVkCg', 'expanded_url': 'https://apnews.com/article/donald-trump-joe-biden-us-supreme-court-texas-election-2020-071cd81a1447f17bfd115edffc4ff456', 'display_url': 'apnews.com/article/donald…', 'indices': [232, 255]}]}, 'metadata': {'iso_language_code': 'en', 'result_type': 'recent'}, 'source': '<a href=\"https://about.twitter.com/products/tweetdeck\" rel=\"nofollow\">TweetDeck</a>', 'in_reply_to_status_id': None, 'in_reply_to_status_id_str': None, 'in_reply_to_user_id': None, 'in_reply_to_user_id_str': None, 'in_reply_to_screen_name': None, 'user': {'id': 1045976040877756421, 'id_str': '1045976040877756421', 'name': 'Bombshell DAILY 💣', 'screen_name': 'BombshellDAILY', 'location': \"PLEASE, donate if you're able:\", 'description': '#RESISTANCE HEADLINES: Journalist🔸Integrity🔸Service🔸Links🔸Tolerance🔸Community🔸Activism🔸Gratitude🔸#FBR', 'url': 'https://t.co/Z3o66x6L7L', 'entities': {'url': {'urls': [{'url': 'https://t.co/Z3o66x6L7L', 'expanded_url': 'https://gogetfunding.com/ARREST-TRUMP/', 'display_url': 'gogetfunding.com/ARREST-TRUMP/', 'indices': [0, 23]}]}, 'description': {'urls': []}}, 'protected': False, 'followers_count': 77512, 'friends_count': 79071, 'listed_count': 69, 'created_at': 'Sat Sep 29 09:58:16 +0000 2018', 'favourites_count': 78521, 'utc_offset': None, 'time_zone': None, 'geo_enabled': False, 'verified': False, 'statuses_count': 39534, 'lang': None, 'contributors_enabled': False, 'is_translator': False, 'is_translation_enabled': False, 'profile_background_color': 'F5F8FA', 'profile_background_image_url': None, 'profile_background_image_url_https': None, 'profile_background_tile': False, 'profile_image_url': 'http://pbs.twimg.com/profile_images/1054022306043957249/rN7rsSiC_normal.jpg', 'profile_image_url_https': 'https://pbs.twimg.com/profile_images/1054022306043957249/rN7rsSiC_normal.jpg', 'profile_banner_url': 'https://pbs.twimg.com/profile_banners/1045976040877756421/1538215228', 'profile_link_color': '1DA1F2', 'profile_sidebar_border_color': 'C0DEED', 'profile_sidebar_fill_color': 'DDEEF6', 'profile_text_color': '333333', 'profile_use_background_image': True, 'has_extended_profile': True, 'default_profile': True, 'default_profile_image': False, 'following': False, 'follow_request_sent': False, 'notifications': False, 'translator_type': 'none', 'withheld_in_countries': []}, 'geo': None, 'coordinates': None, 'place': None, 'contributors': None, 'is_quote_status': False, 'retweet_count': 7, 'favorite_count': 14, 'favorited': False, 'retweeted': False, 'possibly_sensitive': False, 'lang': 'en'}, created_at=datetime.datetime(2021, 6, 23, 6, 6, 4), id=1407580697133453313, id_str='1407580697133453313', full_text='TEXAS STATE BAR ASSOCIATION INVESTIGATING ABBOTT FOR ATTEMPTING TO REVERSE ELECTION \\nDid bogus claims of fraud amount to professional misconduct? Dismissing the voters will is normally punishable with immediate expulsion. #sedition\\nhttps://t.co/wsNEKiVkCg', truncated=False, display_text_range=[0, 255], entities={'hashtags': [{'text': 'sedition', 'indices': [222, 231]}], 'symbols': [], 'user_mentions': [], 'urls': [{'url': 'https://t.co/wsNEKiVkCg', 'expanded_url': 'https://apnews.com/article/donald-trump-joe-biden-us-supreme-court-texas-election-2020-071cd81a1447f17bfd115edffc4ff456', 'display_url': 'apnews.com/article/donald…', 'indices': [232, 255]}]}, metadata={'iso_language_code': 'en', 'result_type': 'recent'}, source='TweetDeck', source_url='https://about.twitter.com/products/tweetdeck', in_reply_to_status_id=None, in_reply_to_status_id_str=None, in_reply_to_user_id=None, in_reply_to_user_id_str=None, in_reply_to_screen_name=None, author=User(_api=<tweepy.api.API object at 0x00000290CDC719D0>, _json={'id': 1045976040877756421, 'id_str': '1045976040877756421', 'name': 'Bombshell DAILY 💣', 'screen_name': 'BombshellDAILY', 'location': \"PLEASE, donate if you're able:\", 'description': '#RESISTANCE HEADLINES: Journalist🔸Integrity🔸Service🔸Links🔸Tolerance🔸Community🔸Activism🔸Gratitude🔸#FBR', 'url': 'https://t.co/Z3o66x6L7L', 'entities': {'url': {'urls': [{'url': 'https://t.co/Z3o66x6L7L', 'expanded_url': 'https://gogetfunding.com/ARREST-TRUMP/', 'display_url': 'gogetfunding.com/ARREST-TRUMP/', 'indices': [0, 23]}]}, 'description': {'urls': []}}, 'protected': False, 'followers_count': 77512, 'friends_count': 79071, 'listed_count': 69, 'created_at': 'Sat Sep 29 09:58:16 +0000 2018', 'favourites_count': 78521, 'utc_offset': None, 'time_zone': None, 'geo_enabled': False, 'verified': False, 'statuses_count': 39534, 'lang': None, 'contributors_enabled': False, 'is_translator': False, 'is_translation_enabled': False, 'profile_background_color': 'F5F8FA', 'profile_background_image_url': None, 'profile_background_image_url_https': None, 'profile_background_tile': False, 'profile_image_url': 'http://pbs.twimg.com/profile_images/1054022306043957249/rN7rsSiC_normal.jpg', 'profile_image_url_https': 'https://pbs.twimg.com/profile_images/1054022306043957249/rN7rsSiC_normal.jpg', 'profile_banner_url': 'https://pbs.twimg.com/profile_banners/1045976040877756421/1538215228', 'profile_link_color': '1DA1F2', 'profile_sidebar_border_color': 'C0DEED', 'profile_sidebar_fill_color': 'DDEEF6', 'profile_text_color': '333333', 'profile_use_background_image': True, 'has_extended_profile': True, 'default_profile': True, 'default_profile_image': False, 'following': False, 'follow_request_sent': False, 'notifications': False, 'translator_type': 'none', 'withheld_in_countries': []}, id=1045976040877756421, id_str='1045976040877756421', name='Bombshell DAILY 💣', screen_name='BombshellDAILY', location=\"PLEASE, donate if you're able:\", description='#RESISTANCE HEADLINES: Journalist🔸Integrity🔸Service🔸Links🔸Tolerance🔸Community🔸Activism🔸Gratitude🔸#FBR', url='https://t.co/Z3o66x6L7L', entities={'url': {'urls': [{'url': 'https://t.co/Z3o66x6L7L', 'expanded_url': 'https://gogetfunding.com/ARREST-TRUMP/', 'display_url': 'gogetfunding.com/ARREST-TRUMP/', 'indices': [0, 23]}]}, 'description': {'urls': []}}, protected=False, followers_count=77512, friends_count=79071, listed_count=69, created_at=datetime.datetime(2018, 9, 29, 9, 58, 16), favourites_count=78521, utc_offset=None, time_zone=None, geo_enabled=False, verified=False, statuses_count=39534, lang=None, contributors_enabled=False, is_translator=False, is_translation_enabled=False, profile_background_color='F5F8FA', profile_background_image_url=None, profile_background_image_url_https=None, profile_background_tile=False, profile_image_url='http://pbs.twimg.com/profile_images/1054022306043957249/rN7rsSiC_normal.jpg', profile_image_url_https='https://pbs.twimg.com/profile_images/1054022306043957249/rN7rsSiC_normal.jpg', profile_banner_url='https://pbs.twimg.com/profile_banners/1045976040877756421/1538215228', profile_link_color='1DA1F2', profile_sidebar_border_color='C0DEED', profile_sidebar_fill_color='DDEEF6', profile_text_color='333333', profile_use_background_image=True, has_extended_profile=True, default_profile=True, default_profile_image=False, following=False, follow_request_sent=False, notifications=False, translator_type='none', withheld_in_countries=[]), user=User(_api=<tweepy.api.API object at 0x00000290CDC719D0>, _json={'id': 1045976040877756421, 'id_str': '1045976040877756421', 'name': 'Bombshell DAILY 💣', 'screen_name': 'BombshellDAILY', 'location': \"PLEASE, donate if you're able:\", 'description': '#RESISTANCE HEADLINES: Journalist🔸Integrity🔸Service🔸Links🔸Tolerance🔸Community🔸Activism🔸Gratitude🔸#FBR', 'url': 'https://t.co/Z3o66x6L7L', 'entities': {'url': {'urls': [{'url': 'https://t.co/Z3o66x6L7L', 'expanded_url': 'https://gogetfunding.com/ARREST-TRUMP/', 'display_url': 'gogetfunding.com/ARREST-TRUMP/', 'indices': [0, 23]}]}, 'description': {'urls': []}}, 'protected': False, 'followers_count': 77512, 'friends_count': 79071, 'listed_count': 69, 'created_at': 'Sat Sep 29 09:58:16 +0000 2018', 'favourites_count': 78521, 'utc_offset': None, 'time_zone': None, 'geo_enabled': False, 'verified': False, 'statuses_count': 39534, 'lang': None, 'contributors_enabled': False, 'is_translator': False, 'is_translation_enabled': False, 'profile_background_color': 'F5F8FA', 'profile_background_image_url': None, 'profile_background_image_url_https': None, 'profile_background_tile': False, 'profile_image_url': 'http://pbs.twimg.com/profile_images/1054022306043957249/rN7rsSiC_normal.jpg', 'profile_image_url_https': 'https://pbs.twimg.com/profile_images/1054022306043957249/rN7rsSiC_normal.jpg', 'profile_banner_url': 'https://pbs.twimg.com/profile_banners/1045976040877756421/1538215228', 'profile_link_color': '1DA1F2', 'profile_sidebar_border_color': 'C0DEED', 'profile_sidebar_fill_color': 'DDEEF6', 'profile_text_color': '333333', 'profile_use_background_image': True, 'has_extended_profile': True, 'default_profile': True, 'default_profile_image': False, 'following': False, 'follow_request_sent': False, 'notifications': False, 'translator_type': 'none', 'withheld_in_countries': []}, id=1045976040877756421, id_str='1045976040877756421', name='Bombshell DAILY 💣', screen_name='BombshellDAILY', location=\"PLEASE, donate if you're able:\", description='#RESISTANCE HEADLINES: Journalist🔸Integrity🔸Service🔸Links🔸Tolerance🔸Community🔸Activism🔸Gratitude🔸#FBR', url='https://t.co/Z3o66x6L7L', entities={'url': {'urls': [{'url': 'https://t.co/Z3o66x6L7L', 'expanded_url': 'https://gogetfunding.com/ARREST-TRUMP/', 'display_url': 'gogetfunding.com/ARREST-TRUMP/', 'indices': [0, 23]}]}, 'description': {'urls': []}}, protected=False, followers_count=77512, friends_count=79071, listed_count=69, created_at=datetime.datetime(2018, 9, 29, 9, 58, 16), favourites_count=78521, utc_offset=None, time_zone=None, geo_enabled=False, verified=False, statuses_count=39534, lang=None, contributors_enabled=False, is_translator=False, is_translation_enabled=False, profile_background_color='F5F8FA', profile_background_image_url=None, profile_background_image_url_https=None, profile_background_tile=False, profile_image_url='http://pbs.twimg.com/profile_images/1054022306043957249/rN7rsSiC_normal.jpg', profile_image_url_https='https://pbs.twimg.com/profile_images/1054022306043957249/rN7rsSiC_normal.jpg', profile_banner_url='https://pbs.twimg.com/profile_banners/1045976040877756421/1538215228', profile_link_color='1DA1F2', profile_sidebar_border_color='C0DEED', profile_sidebar_fill_color='DDEEF6', profile_text_color='333333', profile_use_background_image=True, has_extended_profile=True, default_profile=True, default_profile_image=False, following=False, follow_request_sent=False, notifications=False, translator_type='none', withheld_in_countries=[]), geo=None, coordinates=None, place=None, contributors=None, is_quote_status=False, retweet_count=7, favorite_count=14, favorited=False, retweeted=False, possibly_sensitive=False, lang='en')\n",
      "=================================================\n",
      "Status(_api=<tweepy.api.API object at 0x00000290CDC719D0>, _json={'created_at': 'Wed Jun 23 05:43:10 +0000 2021', 'id': 1407574934252101636, 'id_str': '1407574934252101636', 'full_text': 'What election did she \"cost\" us?\\n\\nBiden is President. We flipped Georgia. Why are you so mad?\\n\\nRemember when you *defended* Joe Manchin after he voted to confirm Brett Kavanaugh? Maybe you should direct some of that ire at him. Last I checked, it wasn\\'t AOC holding back progress. https://t.co/6njlyplSZy', 'truncated': False, 'display_text_range': [0, 280], 'entities': {'hashtags': [], 'symbols': [], 'user_mentions': [], 'urls': [{'url': 'https://t.co/6njlyplSZy', 'expanded_url': 'https://twitter.com/SilentAmuse/status/1327381591627358208', 'display_url': 'twitter.com/SilentAmuse/st…', 'indices': [281, 304]}]}, 'metadata': {'iso_language_code': 'en', 'result_type': 'recent'}, 'source': '<a href=\"http://twitter.com/download/android\" rel=\"nofollow\">Twitter for Android</a>', 'in_reply_to_status_id': None, 'in_reply_to_status_id_str': None, 'in_reply_to_user_id': None, 'in_reply_to_user_id_str': None, 'in_reply_to_screen_name': None, 'user': {'id': 77404557, 'id_str': '77404557', 'name': 'stay mad', 'screen_name': 'gksutto', 'location': 'New York', 'description': 'Feminist. Zionist. Queer.', 'url': None, 'entities': {'description': {'urls': []}}, 'protected': False, 'followers_count': 895, 'friends_count': 40, 'listed_count': 33, 'created_at': 'Sat Sep 26 05:22:15 +0000 2009', 'favourites_count': 219250, 'utc_offset': None, 'time_zone': None, 'geo_enabled': False, 'verified': False, 'statuses_count': 1880, 'lang': None, 'contributors_enabled': False, 'is_translator': False, 'is_translation_enabled': False, 'profile_background_color': '0D0D0D', 'profile_background_image_url': 'http://abs.twimg.com/images/themes/theme14/bg.gif', 'profile_background_image_url_https': 'https://abs.twimg.com/images/themes/theme14/bg.gif', 'profile_background_tile': True, 'profile_image_url': 'http://pbs.twimg.com/profile_images/1398474685407506434/eeU8KROh_normal.jpg', 'profile_image_url_https': 'https://pbs.twimg.com/profile_images/1398474685407506434/eeU8KROh_normal.jpg', 'profile_banner_url': 'https://pbs.twimg.com/profile_banners/77404557/1622777563', 'profile_link_color': '990000', 'profile_sidebar_border_color': '000000', 'profile_sidebar_fill_color': '050505', 'profile_text_color': '333333', 'profile_use_background_image': True, 'has_extended_profile': False, 'default_profile': False, 'default_profile_image': False, 'following': False, 'follow_request_sent': False, 'notifications': False, 'translator_type': 'none', 'withheld_in_countries': []}, 'geo': None, 'coordinates': None, 'place': None, 'contributors': None, 'is_quote_status': True, 'quoted_status_id': 1327381591627358208, 'quoted_status_id_str': '1327381591627358208', 'quoted_status': {'created_at': 'Fri Nov 13 22:43:27 +0000 2020', 'id': 1327381591627358208, 'id_str': '1327381591627358208', 'full_text': '@VOTEDBlueOnly My timing is suspect? You mean, after she cost us the election and is about to cost us our last chance to take the Senate?\\n\\nYour judgement is suspect.', 'truncated': False, 'display_text_range': [15, 165], 'entities': {'hashtags': [], 'symbols': [], 'user_mentions': [{'screen_name': 'VOTEDBlueOnly', 'name': 'Ukulwa - Biden-Harris', 'id': 1267468971453886465, 'id_str': '1267468971453886465', 'indices': [0, 14]}], 'urls': []}, 'metadata': {'iso_language_code': 'en', 'result_type': 'recent'}, 'source': '<a href=\"https://mobile.twitter.com\" rel=\"nofollow\">Twitter Web App</a>', 'in_reply_to_status_id': 1327239151578705921, 'in_reply_to_status_id_str': '1327239151578705921', 'in_reply_to_user_id': 1267468971453886465, 'in_reply_to_user_id_str': '1267468971453886465', 'in_reply_to_screen_name': 'VOTEDBlueOnly', 'user': {'id': 1317548554995589124, 'id_str': '1317548554995589124', 'name': 'Sally Albright', 'screen_name': 'SilentAmuse', 'location': 'Washington, D.C.', 'description': \"🎶 Come dance the silence down through the morning 🎶\\nStill working on fixing my account but for now, this is me.\\n(I still don't DM.)\", 'url': 'https://t.co/XPAFl3PkMm', 'entities': {'url': {'urls': [{'url': 'https://t.co/XPAFl3PkMm', 'expanded_url': 'http://Back2Brunch.com', 'display_url': 'Back2Brunch.com', 'indices': [0, 23]}]}, 'description': {'urls': []}}, 'protected': False, 'followers_count': 11543, 'friends_count': 9192, 'listed_count': 49, 'created_at': 'Sat Oct 17 19:30:50 +0000 2020', 'favourites_count': 49232, 'utc_offset': None, 'time_zone': None, 'geo_enabled': True, 'verified': False, 'statuses_count': 60966, 'lang': None, 'contributors_enabled': False, 'is_translator': False, 'is_translation_enabled': False, 'profile_background_color': 'F5F8FA', 'profile_background_image_url': None, 'profile_background_image_url_https': None, 'profile_background_tile': False, 'profile_image_url': 'http://pbs.twimg.com/profile_images/1385294759531630594/d0Jfzub__normal.jpg', 'profile_image_url_https': 'https://pbs.twimg.com/profile_images/1385294759531630594/d0Jfzub__normal.jpg', 'profile_link_color': '1DA1F2', 'profile_sidebar_border_color': 'C0DEED', 'profile_sidebar_fill_color': 'DDEEF6', 'profile_text_color': '333333', 'profile_use_background_image': True, 'has_extended_profile': True, 'default_profile': True, 'default_profile_image': False, 'following': False, 'follow_request_sent': False, 'notifications': False, 'translator_type': 'none', 'withheld_in_countries': []}, 'geo': None, 'coordinates': None, 'place': None, 'contributors': None, 'is_quote_status': False, 'retweet_count': 7, 'favorite_count': 21, 'favorited': False, 'retweeted': False, 'lang': 'en'}, 'retweet_count': 0, 'favorite_count': 0, 'favorited': False, 'retweeted': False, 'possibly_sensitive': False, 'lang': 'en'}, created_at=datetime.datetime(2021, 6, 23, 5, 43, 10), id=1407574934252101636, id_str='1407574934252101636', full_text='What election did she \"cost\" us?\\n\\nBiden is President. We flipped Georgia. Why are you so mad?\\n\\nRemember when you *defended* Joe Manchin after he voted to confirm Brett Kavanaugh? Maybe you should direct some of that ire at him. Last I checked, it wasn\\'t AOC holding back progress. https://t.co/6njlyplSZy', truncated=False, display_text_range=[0, 280], entities={'hashtags': [], 'symbols': [], 'user_mentions': [], 'urls': [{'url': 'https://t.co/6njlyplSZy', 'expanded_url': 'https://twitter.com/SilentAmuse/status/1327381591627358208', 'display_url': 'twitter.com/SilentAmuse/st…', 'indices': [281, 304]}]}, metadata={'iso_language_code': 'en', 'result_type': 'recent'}, source='Twitter for Android', source_url='http://twitter.com/download/android', in_reply_to_status_id=None, in_reply_to_status_id_str=None, in_reply_to_user_id=None, in_reply_to_user_id_str=None, in_reply_to_screen_name=None, author=User(_api=<tweepy.api.API object at 0x00000290CDC719D0>, _json={'id': 77404557, 'id_str': '77404557', 'name': 'stay mad', 'screen_name': 'gksutto', 'location': 'New York', 'description': 'Feminist. Zionist. Queer.', 'url': None, 'entities': {'description': {'urls': []}}, 'protected': False, 'followers_count': 895, 'friends_count': 40, 'listed_count': 33, 'created_at': 'Sat Sep 26 05:22:15 +0000 2009', 'favourites_count': 219250, 'utc_offset': None, 'time_zone': None, 'geo_enabled': False, 'verified': False, 'statuses_count': 1880, 'lang': None, 'contributors_enabled': False, 'is_translator': False, 'is_translation_enabled': False, 'profile_background_color': '0D0D0D', 'profile_background_image_url': 'http://abs.twimg.com/images/themes/theme14/bg.gif', 'profile_background_image_url_https': 'https://abs.twimg.com/images/themes/theme14/bg.gif', 'profile_background_tile': True, 'profile_image_url': 'http://pbs.twimg.com/profile_images/1398474685407506434/eeU8KROh_normal.jpg', 'profile_image_url_https': 'https://pbs.twimg.com/profile_images/1398474685407506434/eeU8KROh_normal.jpg', 'profile_banner_url': 'https://pbs.twimg.com/profile_banners/77404557/1622777563', 'profile_link_color': '990000', 'profile_sidebar_border_color': '000000', 'profile_sidebar_fill_color': '050505', 'profile_text_color': '333333', 'profile_use_background_image': True, 'has_extended_profile': False, 'default_profile': False, 'default_profile_image': False, 'following': False, 'follow_request_sent': False, 'notifications': False, 'translator_type': 'none', 'withheld_in_countries': []}, id=77404557, id_str='77404557', name='stay mad', screen_name='gksutto', location='New York', description='Feminist. Zionist. Queer.', url=None, entities={'description': {'urls': []}}, protected=False, followers_count=895, friends_count=40, listed_count=33, created_at=datetime.datetime(2009, 9, 26, 5, 22, 15), favourites_count=219250, utc_offset=None, time_zone=None, geo_enabled=False, verified=False, statuses_count=1880, lang=None, contributors_enabled=False, is_translator=False, is_translation_enabled=False, profile_background_color='0D0D0D', profile_background_image_url='http://abs.twimg.com/images/themes/theme14/bg.gif', profile_background_image_url_https='https://abs.twimg.com/images/themes/theme14/bg.gif', profile_background_tile=True, profile_image_url='http://pbs.twimg.com/profile_images/1398474685407506434/eeU8KROh_normal.jpg', profile_image_url_https='https://pbs.twimg.com/profile_images/1398474685407506434/eeU8KROh_normal.jpg', profile_banner_url='https://pbs.twimg.com/profile_banners/77404557/1622777563', profile_link_color='990000', profile_sidebar_border_color='000000', profile_sidebar_fill_color='050505', profile_text_color='333333', profile_use_background_image=True, has_extended_profile=False, default_profile=False, default_profile_image=False, following=False, follow_request_sent=False, notifications=False, translator_type='none', withheld_in_countries=[]), user=User(_api=<tweepy.api.API object at 0x00000290CDC719D0>, _json={'id': 77404557, 'id_str': '77404557', 'name': 'stay mad', 'screen_name': 'gksutto', 'location': 'New York', 'description': 'Feminist. Zionist. Queer.', 'url': None, 'entities': {'description': {'urls': []}}, 'protected': False, 'followers_count': 895, 'friends_count': 40, 'listed_count': 33, 'created_at': 'Sat Sep 26 05:22:15 +0000 2009', 'favourites_count': 219250, 'utc_offset': None, 'time_zone': None, 'geo_enabled': False, 'verified': False, 'statuses_count': 1880, 'lang': None, 'contributors_enabled': False, 'is_translator': False, 'is_translation_enabled': False, 'profile_background_color': '0D0D0D', 'profile_background_image_url': 'http://abs.twimg.com/images/themes/theme14/bg.gif', 'profile_background_image_url_https': 'https://abs.twimg.com/images/themes/theme14/bg.gif', 'profile_background_tile': True, 'profile_image_url': 'http://pbs.twimg.com/profile_images/1398474685407506434/eeU8KROh_normal.jpg', 'profile_image_url_https': 'https://pbs.twimg.com/profile_images/1398474685407506434/eeU8KROh_normal.jpg', 'profile_banner_url': 'https://pbs.twimg.com/profile_banners/77404557/1622777563', 'profile_link_color': '990000', 'profile_sidebar_border_color': '000000', 'profile_sidebar_fill_color': '050505', 'profile_text_color': '333333', 'profile_use_background_image': True, 'has_extended_profile': False, 'default_profile': False, 'default_profile_image': False, 'following': False, 'follow_request_sent': False, 'notifications': False, 'translator_type': 'none', 'withheld_in_countries': []}, id=77404557, id_str='77404557', name='stay mad', screen_name='gksutto', location='New York', description='Feminist. Zionist. Queer.', url=None, entities={'description': {'urls': []}}, protected=False, followers_count=895, friends_count=40, listed_count=33, created_at=datetime.datetime(2009, 9, 26, 5, 22, 15), favourites_count=219250, utc_offset=None, time_zone=None, geo_enabled=False, verified=False, statuses_count=1880, lang=None, contributors_enabled=False, is_translator=False, is_translation_enabled=False, profile_background_color='0D0D0D', profile_background_image_url='http://abs.twimg.com/images/themes/theme14/bg.gif', profile_background_image_url_https='https://abs.twimg.com/images/themes/theme14/bg.gif', profile_background_tile=True, profile_image_url='http://pbs.twimg.com/profile_images/1398474685407506434/eeU8KROh_normal.jpg', profile_image_url_https='https://pbs.twimg.com/profile_images/1398474685407506434/eeU8KROh_normal.jpg', profile_banner_url='https://pbs.twimg.com/profile_banners/77404557/1622777563', profile_link_color='990000', profile_sidebar_border_color='000000', profile_sidebar_fill_color='050505', profile_text_color='333333', profile_use_background_image=True, has_extended_profile=False, default_profile=False, default_profile_image=False, following=False, follow_request_sent=False, notifications=False, translator_type='none', withheld_in_countries=[]), geo=None, coordinates=None, place=None, contributors=None, is_quote_status=True, quoted_status_id=1327381591627358208, quoted_status_id_str='1327381591627358208', quoted_status=Status(_api=<tweepy.api.API object at 0x00000290CDC719D0>, _json={'created_at': 'Fri Nov 13 22:43:27 +0000 2020', 'id': 1327381591627358208, 'id_str': '1327381591627358208', 'full_text': '@VOTEDBlueOnly My timing is suspect? You mean, after she cost us the election and is about to cost us our last chance to take the Senate?\\n\\nYour judgement is suspect.', 'truncated': False, 'display_text_range': [15, 165], 'entities': {'hashtags': [], 'symbols': [], 'user_mentions': [{'screen_name': 'VOTEDBlueOnly', 'name': 'Ukulwa - Biden-Harris', 'id': 1267468971453886465, 'id_str': '1267468971453886465', 'indices': [0, 14]}], 'urls': []}, 'metadata': {'iso_language_code': 'en', 'result_type': 'recent'}, 'source': '<a href=\"https://mobile.twitter.com\" rel=\"nofollow\">Twitter Web App</a>', 'in_reply_to_status_id': 1327239151578705921, 'in_reply_to_status_id_str': '1327239151578705921', 'in_reply_to_user_id': 1267468971453886465, 'in_reply_to_user_id_str': '1267468971453886465', 'in_reply_to_screen_name': 'VOTEDBlueOnly', 'user': {'id': 1317548554995589124, 'id_str': '1317548554995589124', 'name': 'Sally Albright', 'screen_name': 'SilentAmuse', 'location': 'Washington, D.C.', 'description': \"🎶 Come dance the silence down through the morning 🎶\\nStill working on fixing my account but for now, this is me.\\n(I still don't DM.)\", 'url': 'https://t.co/XPAFl3PkMm', 'entities': {'url': {'urls': [{'url': 'https://t.co/XPAFl3PkMm', 'expanded_url': 'http://Back2Brunch.com', 'display_url': 'Back2Brunch.com', 'indices': [0, 23]}]}, 'description': {'urls': []}}, 'protected': False, 'followers_count': 11543, 'friends_count': 9192, 'listed_count': 49, 'created_at': 'Sat Oct 17 19:30:50 +0000 2020', 'favourites_count': 49232, 'utc_offset': None, 'time_zone': None, 'geo_enabled': True, 'verified': False, 'statuses_count': 60966, 'lang': None, 'contributors_enabled': False, 'is_translator': False, 'is_translation_enabled': False, 'profile_background_color': 'F5F8FA', 'profile_background_image_url': None, 'profile_background_image_url_https': None, 'profile_background_tile': False, 'profile_image_url': 'http://pbs.twimg.com/profile_images/1385294759531630594/d0Jfzub__normal.jpg', 'profile_image_url_https': 'https://pbs.twimg.com/profile_images/1385294759531630594/d0Jfzub__normal.jpg', 'profile_link_color': '1DA1F2', 'profile_sidebar_border_color': 'C0DEED', 'profile_sidebar_fill_color': 'DDEEF6', 'profile_text_color': '333333', 'profile_use_background_image': True, 'has_extended_profile': True, 'default_profile': True, 'default_profile_image': False, 'following': False, 'follow_request_sent': False, 'notifications': False, 'translator_type': 'none', 'withheld_in_countries': []}, 'geo': None, 'coordinates': None, 'place': None, 'contributors': None, 'is_quote_status': False, 'retweet_count': 7, 'favorite_count': 21, 'favorited': False, 'retweeted': False, 'lang': 'en'}, created_at=datetime.datetime(2020, 11, 13, 22, 43, 27), id=1327381591627358208, id_str='1327381591627358208', full_text='@VOTEDBlueOnly My timing is suspect? You mean, after she cost us the election and is about to cost us our last chance to take the Senate?\\n\\nYour judgement is suspect.', truncated=False, display_text_range=[15, 165], entities={'hashtags': [], 'symbols': [], 'user_mentions': [{'screen_name': 'VOTEDBlueOnly', 'name': 'Ukulwa - Biden-Harris', 'id': 1267468971453886465, 'id_str': '1267468971453886465', 'indices': [0, 14]}], 'urls': []}, metadata={'iso_language_code': 'en', 'result_type': 'recent'}, source='Twitter Web App', source_url='https://mobile.twitter.com', in_reply_to_status_id=1327239151578705921, in_reply_to_status_id_str='1327239151578705921', in_reply_to_user_id=1267468971453886465, in_reply_to_user_id_str='1267468971453886465', in_reply_to_screen_name='VOTEDBlueOnly', author=User(_api=<tweepy.api.API object at 0x00000290CDC719D0>, _json={'id': 1317548554995589124, 'id_str': '1317548554995589124', 'name': 'Sally Albright', 'screen_name': 'SilentAmuse', 'location': 'Washington, D.C.', 'description': \"🎶 Come dance the silence down through the morning 🎶\\nStill working on fixing my account but for now, this is me.\\n(I still don't DM.)\", 'url': 'https://t.co/XPAFl3PkMm', 'entities': {'url': {'urls': [{'url': 'https://t.co/XPAFl3PkMm', 'expanded_url': 'http://Back2Brunch.com', 'display_url': 'Back2Brunch.com', 'indices': [0, 23]}]}, 'description': {'urls': []}}, 'protected': False, 'followers_count': 11543, 'friends_count': 9192, 'listed_count': 49, 'created_at': 'Sat Oct 17 19:30:50 +0000 2020', 'favourites_count': 49232, 'utc_offset': None, 'time_zone': None, 'geo_enabled': True, 'verified': False, 'statuses_count': 60966, 'lang': None, 'contributors_enabled': False, 'is_translator': False, 'is_translation_enabled': False, 'profile_background_color': 'F5F8FA', 'profile_background_image_url': None, 'profile_background_image_url_https': None, 'profile_background_tile': False, 'profile_image_url': 'http://pbs.twimg.com/profile_images/1385294759531630594/d0Jfzub__normal.jpg', 'profile_image_url_https': 'https://pbs.twimg.com/profile_images/1385294759531630594/d0Jfzub__normal.jpg', 'profile_link_color': '1DA1F2', 'profile_sidebar_border_color': 'C0DEED', 'profile_sidebar_fill_color': 'DDEEF6', 'profile_text_color': '333333', 'profile_use_background_image': True, 'has_extended_profile': True, 'default_profile': True, 'default_profile_image': False, 'following': False, 'follow_request_sent': False, 'notifications': False, 'translator_type': 'none', 'withheld_in_countries': []}, id=1317548554995589124, id_str='1317548554995589124', name='Sally Albright', screen_name='SilentAmuse', location='Washington, D.C.', description=\"🎶 Come dance the silence down through the morning 🎶\\nStill working on fixing my account but for now, this is me.\\n(I still don't DM.)\", url='https://t.co/XPAFl3PkMm', entities={'url': {'urls': [{'url': 'https://t.co/XPAFl3PkMm', 'expanded_url': 'http://Back2Brunch.com', 'display_url': 'Back2Brunch.com', 'indices': [0, 23]}]}, 'description': {'urls': []}}, protected=False, followers_count=11543, friends_count=9192, listed_count=49, created_at=datetime.datetime(2020, 10, 17, 19, 30, 50), favourites_count=49232, utc_offset=None, time_zone=None, geo_enabled=True, verified=False, statuses_count=60966, lang=None, contributors_enabled=False, is_translator=False, is_translation_enabled=False, profile_background_color='F5F8FA', profile_background_image_url=None, profile_background_image_url_https=None, profile_background_tile=False, profile_image_url='http://pbs.twimg.com/profile_images/1385294759531630594/d0Jfzub__normal.jpg', profile_image_url_https='https://pbs.twimg.com/profile_images/1385294759531630594/d0Jfzub__normal.jpg', profile_link_color='1DA1F2', profile_sidebar_border_color='C0DEED', profile_sidebar_fill_color='DDEEF6', profile_text_color='333333', profile_use_background_image=True, has_extended_profile=True, default_profile=True, default_profile_image=False, following=False, follow_request_sent=False, notifications=False, translator_type='none', withheld_in_countries=[]), user=User(_api=<tweepy.api.API object at 0x00000290CDC719D0>, _json={'id': 1317548554995589124, 'id_str': '1317548554995589124', 'name': 'Sally Albright', 'screen_name': 'SilentAmuse', 'location': 'Washington, D.C.', 'description': \"🎶 Come dance the silence down through the morning 🎶\\nStill working on fixing my account but for now, this is me.\\n(I still don't DM.)\", 'url': 'https://t.co/XPAFl3PkMm', 'entities': {'url': {'urls': [{'url': 'https://t.co/XPAFl3PkMm', 'expanded_url': 'http://Back2Brunch.com', 'display_url': 'Back2Brunch.com', 'indices': [0, 23]}]}, 'description': {'urls': []}}, 'protected': False, 'followers_count': 11543, 'friends_count': 9192, 'listed_count': 49, 'created_at': 'Sat Oct 17 19:30:50 +0000 2020', 'favourites_count': 49232, 'utc_offset': None, 'time_zone': None, 'geo_enabled': True, 'verified': False, 'statuses_count': 60966, 'lang': None, 'contributors_enabled': False, 'is_translator': False, 'is_translation_enabled': False, 'profile_background_color': 'F5F8FA', 'profile_background_image_url': None, 'profile_background_image_url_https': None, 'profile_background_tile': False, 'profile_image_url': 'http://pbs.twimg.com/profile_images/1385294759531630594/d0Jfzub__normal.jpg', 'profile_image_url_https': 'https://pbs.twimg.com/profile_images/1385294759531630594/d0Jfzub__normal.jpg', 'profile_link_color': '1DA1F2', 'profile_sidebar_border_color': 'C0DEED', 'profile_sidebar_fill_color': 'DDEEF6', 'profile_text_color': '333333', 'profile_use_background_image': True, 'has_extended_profile': True, 'default_profile': True, 'default_profile_image': False, 'following': False, 'follow_request_sent': False, 'notifications': False, 'translator_type': 'none', 'withheld_in_countries': []}, id=1317548554995589124, id_str='1317548554995589124', name='Sally Albright', screen_name='SilentAmuse', location='Washington, D.C.', description=\"🎶 Come dance the silence down through the morning 🎶\\nStill working on fixing my account but for now, this is me.\\n(I still don't DM.)\", url='https://t.co/XPAFl3PkMm', entities={'url': {'urls': [{'url': 'https://t.co/XPAFl3PkMm', 'expanded_url': 'http://Back2Brunch.com', 'display_url': 'Back2Brunch.com', 'indices': [0, 23]}]}, 'description': {'urls': []}}, protected=False, followers_count=11543, friends_count=9192, listed_count=49, created_at=datetime.datetime(2020, 10, 17, 19, 30, 50), favourites_count=49232, utc_offset=None, time_zone=None, geo_enabled=True, verified=False, statuses_count=60966, lang=None, contributors_enabled=False, is_translator=False, is_translation_enabled=False, profile_background_color='F5F8FA', profile_background_image_url=None, profile_background_image_url_https=None, profile_background_tile=False, profile_image_url='http://pbs.twimg.com/profile_images/1385294759531630594/d0Jfzub__normal.jpg', profile_image_url_https='https://pbs.twimg.com/profile_images/1385294759531630594/d0Jfzub__normal.jpg', profile_link_color='1DA1F2', profile_sidebar_border_color='C0DEED', profile_sidebar_fill_color='DDEEF6', profile_text_color='333333', profile_use_background_image=True, has_extended_profile=True, default_profile=True, default_profile_image=False, following=False, follow_request_sent=False, notifications=False, translator_type='none', withheld_in_countries=[]), geo=None, coordinates=None, place=None, contributors=None, is_quote_status=False, retweet_count=7, favorite_count=21, favorited=False, retweeted=False, lang='en'), retweet_count=0, favorite_count=0, favorited=False, retweeted=False, possibly_sensitive=False, lang='en')\n",
      "=================================================\n",
      "Status(_api=<tweepy.api.API object at 0x00000290CDC719D0>, _json={'created_at': 'Wed Jun 23 04:13:19 +0000 2021', 'id': 1407552321798688772, 'id_str': '1407552321798688772', 'full_text': 'US Senate Republicans block Biden-backed voting reforms \\n\\nRepublicans in the United States Senate blocked debate Tuesday on sweeping election reform legislation proposed by Democrats and backed by President Joe Biden setting the stage for a confrontation… https://t.co/4IY3BZqRe9 https://t.co/gUU5mOOGsX', 'truncated': False, 'display_text_range': [0, 279], 'entities': {'hashtags': [], 'symbols': [], 'user_mentions': [], 'urls': [{'url': 'https://t.co/4IY3BZqRe9', 'expanded_url': 'https://ift.tt/2SVIKl3', 'display_url': 'ift.tt/2SVIKl3', 'indices': [256, 279]}], 'media': [{'id': 1407552320746012674, 'id_str': '1407552320746012674', 'indices': [280, 303], 'media_url': 'http://pbs.twimg.com/media/E4ihYNDXwAI_IJY.jpg', 'media_url_https': 'https://pbs.twimg.com/media/E4ihYNDXwAI_IJY.jpg', 'url': 'https://t.co/gUU5mOOGsX', 'display_url': 'pic.twitter.com/gUU5mOOGsX', 'expanded_url': 'https://twitter.com/www_AfgNews_net/status/1407552321798688772/photo/1', 'type': 'photo', 'sizes': {'thumb': {'w': 150, 'h': 150, 'resize': 'crop'}, 'small': {'w': 680, 'h': 453, 'resize': 'fit'}, 'medium': {'w': 770, 'h': 513, 'resize': 'fit'}, 'large': {'w': 770, 'h': 513, 'resize': 'fit'}}}]}, 'extended_entities': {'media': [{'id': 1407552320746012674, 'id_str': '1407552320746012674', 'indices': [280, 303], 'media_url': 'http://pbs.twimg.com/media/E4ihYNDXwAI_IJY.jpg', 'media_url_https': 'https://pbs.twimg.com/media/E4ihYNDXwAI_IJY.jpg', 'url': 'https://t.co/gUU5mOOGsX', 'display_url': 'pic.twitter.com/gUU5mOOGsX', 'expanded_url': 'https://twitter.com/www_AfgNews_net/status/1407552321798688772/photo/1', 'type': 'photo', 'sizes': {'thumb': {'w': 150, 'h': 150, 'resize': 'crop'}, 'small': {'w': 680, 'h': 453, 'resize': 'fit'}, 'medium': {'w': 770, 'h': 513, 'resize': 'fit'}, 'large': {'w': 770, 'h': 513, 'resize': 'fit'}}}]}, 'metadata': {'iso_language_code': 'en', 'result_type': 'recent'}, 'source': '<a href=\"https://ifttt.com\" rel=\"nofollow\">IFTTT</a>', 'in_reply_to_status_id': None, 'in_reply_to_status_id_str': None, 'in_reply_to_user_id': None, 'in_reply_to_user_id_str': None, 'in_reply_to_screen_name': None, 'user': {'id': 1386284730027491335, 'id_str': '1386284730027491335', 'name': 'www.AfgNews.net', 'screen_name': 'www_AfgNews_net', 'location': 'Afghanistan', 'description': \"https://t.co/L9cqzxRjXR is Afghanistan's 24-Hours News, Regional & World news Network.\", 'url': 'https://t.co/iptpArQ7Cb', 'entities': {'url': {'urls': [{'url': 'https://t.co/iptpArQ7Cb', 'expanded_url': 'http://www.afgnews.net', 'display_url': 'afgnews.net', 'indices': [0, 23]}]}, 'description': {'urls': [{'url': 'https://t.co/L9cqzxRjXR', 'expanded_url': 'http://AfgNews.net', 'display_url': 'AfgNews.net', 'indices': [0, 23]}]}}, 'protected': False, 'followers_count': 4, 'friends_count': 0, 'listed_count': 0, 'created_at': 'Sun Apr 25 11:43:55 +0000 2021', 'favourites_count': 5, 'utc_offset': None, 'time_zone': None, 'geo_enabled': False, 'verified': False, 'statuses_count': 542, 'lang': None, 'contributors_enabled': False, 'is_translator': False, 'is_translation_enabled': False, 'profile_background_color': 'F5F8FA', 'profile_background_image_url': None, 'profile_background_image_url_https': None, 'profile_background_tile': False, 'profile_image_url': 'http://pbs.twimg.com/profile_images/1386285060857417730/YakLnlaw_normal.jpg', 'profile_image_url_https': 'https://pbs.twimg.com/profile_images/1386285060857417730/YakLnlaw_normal.jpg', 'profile_banner_url': 'https://pbs.twimg.com/profile_banners/1386284730027491335/1619351355', 'profile_link_color': '1DA1F2', 'profile_sidebar_border_color': 'C0DEED', 'profile_sidebar_fill_color': 'DDEEF6', 'profile_text_color': '333333', 'profile_use_background_image': True, 'has_extended_profile': True, 'default_profile': True, 'default_profile_image': False, 'following': False, 'follow_request_sent': False, 'notifications': False, 'translator_type': 'none', 'withheld_in_countries': []}, 'geo': None, 'coordinates': None, 'place': None, 'contributors': None, 'is_quote_status': False, 'retweet_count': 0, 'favorite_count': 0, 'favorited': False, 'retweeted': False, 'possibly_sensitive': False, 'lang': 'en'}, created_at=datetime.datetime(2021, 6, 23, 4, 13, 19), id=1407552321798688772, id_str='1407552321798688772', full_text='US Senate Republicans block Biden-backed voting reforms \\n\\nRepublicans in the United States Senate blocked debate Tuesday on sweeping election reform legislation proposed by Democrats and backed by President Joe Biden setting the stage for a confrontation… https://t.co/4IY3BZqRe9 https://t.co/gUU5mOOGsX', truncated=False, display_text_range=[0, 279], entities={'hashtags': [], 'symbols': [], 'user_mentions': [], 'urls': [{'url': 'https://t.co/4IY3BZqRe9', 'expanded_url': 'https://ift.tt/2SVIKl3', 'display_url': 'ift.tt/2SVIKl3', 'indices': [256, 279]}], 'media': [{'id': 1407552320746012674, 'id_str': '1407552320746012674', 'indices': [280, 303], 'media_url': 'http://pbs.twimg.com/media/E4ihYNDXwAI_IJY.jpg', 'media_url_https': 'https://pbs.twimg.com/media/E4ihYNDXwAI_IJY.jpg', 'url': 'https://t.co/gUU5mOOGsX', 'display_url': 'pic.twitter.com/gUU5mOOGsX', 'expanded_url': 'https://twitter.com/www_AfgNews_net/status/1407552321798688772/photo/1', 'type': 'photo', 'sizes': {'thumb': {'w': 150, 'h': 150, 'resize': 'crop'}, 'small': {'w': 680, 'h': 453, 'resize': 'fit'}, 'medium': {'w': 770, 'h': 513, 'resize': 'fit'}, 'large': {'w': 770, 'h': 513, 'resize': 'fit'}}}]}, extended_entities={'media': [{'id': 1407552320746012674, 'id_str': '1407552320746012674', 'indices': [280, 303], 'media_url': 'http://pbs.twimg.com/media/E4ihYNDXwAI_IJY.jpg', 'media_url_https': 'https://pbs.twimg.com/media/E4ihYNDXwAI_IJY.jpg', 'url': 'https://t.co/gUU5mOOGsX', 'display_url': 'pic.twitter.com/gUU5mOOGsX', 'expanded_url': 'https://twitter.com/www_AfgNews_net/status/1407552321798688772/photo/1', 'type': 'photo', 'sizes': {'thumb': {'w': 150, 'h': 150, 'resize': 'crop'}, 'small': {'w': 680, 'h': 453, 'resize': 'fit'}, 'medium': {'w': 770, 'h': 513, 'resize': 'fit'}, 'large': {'w': 770, 'h': 513, 'resize': 'fit'}}}]}, metadata={'iso_language_code': 'en', 'result_type': 'recent'}, source='IFTTT', source_url='https://ifttt.com', in_reply_to_status_id=None, in_reply_to_status_id_str=None, in_reply_to_user_id=None, in_reply_to_user_id_str=None, in_reply_to_screen_name=None, author=User(_api=<tweepy.api.API object at 0x00000290CDC719D0>, _json={'id': 1386284730027491335, 'id_str': '1386284730027491335', 'name': 'www.AfgNews.net', 'screen_name': 'www_AfgNews_net', 'location': 'Afghanistan', 'description': \"https://t.co/L9cqzxRjXR is Afghanistan's 24-Hours News, Regional & World news Network.\", 'url': 'https://t.co/iptpArQ7Cb', 'entities': {'url': {'urls': [{'url': 'https://t.co/iptpArQ7Cb', 'expanded_url': 'http://www.afgnews.net', 'display_url': 'afgnews.net', 'indices': [0, 23]}]}, 'description': {'urls': [{'url': 'https://t.co/L9cqzxRjXR', 'expanded_url': 'http://AfgNews.net', 'display_url': 'AfgNews.net', 'indices': [0, 23]}]}}, 'protected': False, 'followers_count': 4, 'friends_count': 0, 'listed_count': 0, 'created_at': 'Sun Apr 25 11:43:55 +0000 2021', 'favourites_count': 5, 'utc_offset': None, 'time_zone': None, 'geo_enabled': False, 'verified': False, 'statuses_count': 542, 'lang': None, 'contributors_enabled': False, 'is_translator': False, 'is_translation_enabled': False, 'profile_background_color': 'F5F8FA', 'profile_background_image_url': None, 'profile_background_image_url_https': None, 'profile_background_tile': False, 'profile_image_url': 'http://pbs.twimg.com/profile_images/1386285060857417730/YakLnlaw_normal.jpg', 'profile_image_url_https': 'https://pbs.twimg.com/profile_images/1386285060857417730/YakLnlaw_normal.jpg', 'profile_banner_url': 'https://pbs.twimg.com/profile_banners/1386284730027491335/1619351355', 'profile_link_color': '1DA1F2', 'profile_sidebar_border_color': 'C0DEED', 'profile_sidebar_fill_color': 'DDEEF6', 'profile_text_color': '333333', 'profile_use_background_image': True, 'has_extended_profile': True, 'default_profile': True, 'default_profile_image': False, 'following': False, 'follow_request_sent': False, 'notifications': False, 'translator_type': 'none', 'withheld_in_countries': []}, id=1386284730027491335, id_str='1386284730027491335', name='www.AfgNews.net', screen_name='www_AfgNews_net', location='Afghanistan', description=\"https://t.co/L9cqzxRjXR is Afghanistan's 24-Hours News, Regional & World news Network.\", url='https://t.co/iptpArQ7Cb', entities={'url': {'urls': [{'url': 'https://t.co/iptpArQ7Cb', 'expanded_url': 'http://www.afgnews.net', 'display_url': 'afgnews.net', 'indices': [0, 23]}]}, 'description': {'urls': [{'url': 'https://t.co/L9cqzxRjXR', 'expanded_url': 'http://AfgNews.net', 'display_url': 'AfgNews.net', 'indices': [0, 23]}]}}, protected=False, followers_count=4, friends_count=0, listed_count=0, created_at=datetime.datetime(2021, 4, 25, 11, 43, 55), favourites_count=5, utc_offset=None, time_zone=None, geo_enabled=False, verified=False, statuses_count=542, lang=None, contributors_enabled=False, is_translator=False, is_translation_enabled=False, profile_background_color='F5F8FA', profile_background_image_url=None, profile_background_image_url_https=None, profile_background_tile=False, profile_image_url='http://pbs.twimg.com/profile_images/1386285060857417730/YakLnlaw_normal.jpg', profile_image_url_https='https://pbs.twimg.com/profile_images/1386285060857417730/YakLnlaw_normal.jpg', profile_banner_url='https://pbs.twimg.com/profile_banners/1386284730027491335/1619351355', profile_link_color='1DA1F2', profile_sidebar_border_color='C0DEED', profile_sidebar_fill_color='DDEEF6', profile_text_color='333333', profile_use_background_image=True, has_extended_profile=True, default_profile=True, default_profile_image=False, following=False, follow_request_sent=False, notifications=False, translator_type='none', withheld_in_countries=[]), user=User(_api=<tweepy.api.API object at 0x00000290CDC719D0>, _json={'id': 1386284730027491335, 'id_str': '1386284730027491335', 'name': 'www.AfgNews.net', 'screen_name': 'www_AfgNews_net', 'location': 'Afghanistan', 'description': \"https://t.co/L9cqzxRjXR is Afghanistan's 24-Hours News, Regional & World news Network.\", 'url': 'https://t.co/iptpArQ7Cb', 'entities': {'url': {'urls': [{'url': 'https://t.co/iptpArQ7Cb', 'expanded_url': 'http://www.afgnews.net', 'display_url': 'afgnews.net', 'indices': [0, 23]}]}, 'description': {'urls': [{'url': 'https://t.co/L9cqzxRjXR', 'expanded_url': 'http://AfgNews.net', 'display_url': 'AfgNews.net', 'indices': [0, 23]}]}}, 'protected': False, 'followers_count': 4, 'friends_count': 0, 'listed_count': 0, 'created_at': 'Sun Apr 25 11:43:55 +0000 2021', 'favourites_count': 5, 'utc_offset': None, 'time_zone': None, 'geo_enabled': False, 'verified': False, 'statuses_count': 542, 'lang': None, 'contributors_enabled': False, 'is_translator': False, 'is_translation_enabled': False, 'profile_background_color': 'F5F8FA', 'profile_background_image_url': None, 'profile_background_image_url_https': None, 'profile_background_tile': False, 'profile_image_url': 'http://pbs.twimg.com/profile_images/1386285060857417730/YakLnlaw_normal.jpg', 'profile_image_url_https': 'https://pbs.twimg.com/profile_images/1386285060857417730/YakLnlaw_normal.jpg', 'profile_banner_url': 'https://pbs.twimg.com/profile_banners/1386284730027491335/1619351355', 'profile_link_color': '1DA1F2', 'profile_sidebar_border_color': 'C0DEED', 'profile_sidebar_fill_color': 'DDEEF6', 'profile_text_color': '333333', 'profile_use_background_image': True, 'has_extended_profile': True, 'default_profile': True, 'default_profile_image': False, 'following': False, 'follow_request_sent': False, 'notifications': False, 'translator_type': 'none', 'withheld_in_countries': []}, id=1386284730027491335, id_str='1386284730027491335', name='www.AfgNews.net', screen_name='www_AfgNews_net', location='Afghanistan', description=\"https://t.co/L9cqzxRjXR is Afghanistan's 24-Hours News, Regional & World news Network.\", url='https://t.co/iptpArQ7Cb', entities={'url': {'urls': [{'url': 'https://t.co/iptpArQ7Cb', 'expanded_url': 'http://www.afgnews.net', 'display_url': 'afgnews.net', 'indices': [0, 23]}]}, 'description': {'urls': [{'url': 'https://t.co/L9cqzxRjXR', 'expanded_url': 'http://AfgNews.net', 'display_url': 'AfgNews.net', 'indices': [0, 23]}]}}, protected=False, followers_count=4, friends_count=0, listed_count=0, created_at=datetime.datetime(2021, 4, 25, 11, 43, 55), favourites_count=5, utc_offset=None, time_zone=None, geo_enabled=False, verified=False, statuses_count=542, lang=None, contributors_enabled=False, is_translator=False, is_translation_enabled=False, profile_background_color='F5F8FA', profile_background_image_url=None, profile_background_image_url_https=None, profile_background_tile=False, profile_image_url='http://pbs.twimg.com/profile_images/1386285060857417730/YakLnlaw_normal.jpg', profile_image_url_https='https://pbs.twimg.com/profile_images/1386285060857417730/YakLnlaw_normal.jpg', profile_banner_url='https://pbs.twimg.com/profile_banners/1386284730027491335/1619351355', profile_link_color='1DA1F2', profile_sidebar_border_color='C0DEED', profile_sidebar_fill_color='DDEEF6', profile_text_color='333333', profile_use_background_image=True, has_extended_profile=True, default_profile=True, default_profile_image=False, following=False, follow_request_sent=False, notifications=False, translator_type='none', withheld_in_countries=[]), geo=None, coordinates=None, place=None, contributors=None, is_quote_status=False, retweet_count=0, favorite_count=0, favorited=False, retweeted=False, possibly_sensitive=False, lang='en')\n",
      "=================================================\n",
      "Status(_api=<tweepy.api.API object at 0x00000290CDC719D0>, _json={'created_at': 'Wed Jun 23 03:49:38 +0000 2021', 'id': 1407546363601055748, 'id_str': '1407546363601055748', 'full_text': '@time2trade2 @HeshmatAlavi We’re supposed to be the most civilized country on the planet and yet we can even run a fair election the liberals will have us believe Joe Biden never left his basement and receive 80 million votes didn’t happen. America corruption', 'truncated': False, 'display_text_range': [27, 259], 'entities': {'hashtags': [], 'symbols': [], 'user_mentions': [{'screen_name': 'time2trade2', 'name': 'Time2Trade', 'id': 763195232645029888, 'id_str': '763195232645029888', 'indices': [0, 12]}, {'screen_name': 'HeshmatAlavi', 'name': 'Heshmat Alavi', 'id': 2554131522, 'id_str': '2554131522', 'indices': [13, 26]}], 'urls': []}, 'metadata': {'iso_language_code': 'en', 'result_type': 'recent'}, 'source': '<a href=\"http://twitter.com/download/iphone\" rel=\"nofollow\">Twitter for iPhone</a>', 'in_reply_to_status_id': 1407546080145911809, 'in_reply_to_status_id_str': '1407546080145911809', 'in_reply_to_user_id': 763195232645029888, 'in_reply_to_user_id_str': '763195232645029888', 'in_reply_to_screen_name': 'time2trade2', 'user': {'id': 1394707784071925766, 'id_str': '1394707784071925766', 'name': 'Don Jon', 'screen_name': 'DonJonBoy59', 'location': '', 'description': '', 'url': None, 'entities': {'description': {'urls': []}}, 'protected': False, 'followers_count': 4, 'friends_count': 39, 'listed_count': 0, 'created_at': 'Tue May 18 17:33:54 +0000 2021', 'favourites_count': 37, 'utc_offset': None, 'time_zone': None, 'geo_enabled': False, 'verified': False, 'statuses_count': 29, 'lang': None, 'contributors_enabled': False, 'is_translator': False, 'is_translation_enabled': False, 'profile_background_color': 'F5F8FA', 'profile_background_image_url': None, 'profile_background_image_url_https': None, 'profile_background_tile': False, 'profile_image_url': 'http://pbs.twimg.com/profile_images/1395536363869536258/2Stzj4wV_normal.jpg', 'profile_image_url_https': 'https://pbs.twimg.com/profile_images/1395536363869536258/2Stzj4wV_normal.jpg', 'profile_banner_url': 'https://pbs.twimg.com/profile_banners/1394707784071925766/1622476736', 'profile_link_color': '1DA1F2', 'profile_sidebar_border_color': 'C0DEED', 'profile_sidebar_fill_color': 'DDEEF6', 'profile_text_color': '333333', 'profile_use_background_image': True, 'has_extended_profile': True, 'default_profile': True, 'default_profile_image': False, 'following': False, 'follow_request_sent': False, 'notifications': False, 'translator_type': 'none', 'withheld_in_countries': []}, 'geo': None, 'coordinates': None, 'place': None, 'contributors': None, 'is_quote_status': False, 'retweet_count': 0, 'favorite_count': 0, 'favorited': False, 'retweeted': False, 'lang': 'en'}, created_at=datetime.datetime(2021, 6, 23, 3, 49, 38), id=1407546363601055748, id_str='1407546363601055748', full_text='@time2trade2 @HeshmatAlavi We’re supposed to be the most civilized country on the planet and yet we can even run a fair election the liberals will have us believe Joe Biden never left his basement and receive 80 million votes didn’t happen. America corruption', truncated=False, display_text_range=[27, 259], entities={'hashtags': [], 'symbols': [], 'user_mentions': [{'screen_name': 'time2trade2', 'name': 'Time2Trade', 'id': 763195232645029888, 'id_str': '763195232645029888', 'indices': [0, 12]}, {'screen_name': 'HeshmatAlavi', 'name': 'Heshmat Alavi', 'id': 2554131522, 'id_str': '2554131522', 'indices': [13, 26]}], 'urls': []}, metadata={'iso_language_code': 'en', 'result_type': 'recent'}, source='Twitter for iPhone', source_url='http://twitter.com/download/iphone', in_reply_to_status_id=1407546080145911809, in_reply_to_status_id_str='1407546080145911809', in_reply_to_user_id=763195232645029888, in_reply_to_user_id_str='763195232645029888', in_reply_to_screen_name='time2trade2', author=User(_api=<tweepy.api.API object at 0x00000290CDC719D0>, _json={'id': 1394707784071925766, 'id_str': '1394707784071925766', 'name': 'Don Jon', 'screen_name': 'DonJonBoy59', 'location': '', 'description': '', 'url': None, 'entities': {'description': {'urls': []}}, 'protected': False, 'followers_count': 4, 'friends_count': 39, 'listed_count': 0, 'created_at': 'Tue May 18 17:33:54 +0000 2021', 'favourites_count': 37, 'utc_offset': None, 'time_zone': None, 'geo_enabled': False, 'verified': False, 'statuses_count': 29, 'lang': None, 'contributors_enabled': False, 'is_translator': False, 'is_translation_enabled': False, 'profile_background_color': 'F5F8FA', 'profile_background_image_url': None, 'profile_background_image_url_https': None, 'profile_background_tile': False, 'profile_image_url': 'http://pbs.twimg.com/profile_images/1395536363869536258/2Stzj4wV_normal.jpg', 'profile_image_url_https': 'https://pbs.twimg.com/profile_images/1395536363869536258/2Stzj4wV_normal.jpg', 'profile_banner_url': 'https://pbs.twimg.com/profile_banners/1394707784071925766/1622476736', 'profile_link_color': '1DA1F2', 'profile_sidebar_border_color': 'C0DEED', 'profile_sidebar_fill_color': 'DDEEF6', 'profile_text_color': '333333', 'profile_use_background_image': True, 'has_extended_profile': True, 'default_profile': True, 'default_profile_image': False, 'following': False, 'follow_request_sent': False, 'notifications': False, 'translator_type': 'none', 'withheld_in_countries': []}, id=1394707784071925766, id_str='1394707784071925766', name='Don Jon', screen_name='DonJonBoy59', location='', description='', url=None, entities={'description': {'urls': []}}, protected=False, followers_count=4, friends_count=39, listed_count=0, created_at=datetime.datetime(2021, 5, 18, 17, 33, 54), favourites_count=37, utc_offset=None, time_zone=None, geo_enabled=False, verified=False, statuses_count=29, lang=None, contributors_enabled=False, is_translator=False, is_translation_enabled=False, profile_background_color='F5F8FA', profile_background_image_url=None, profile_background_image_url_https=None, profile_background_tile=False, profile_image_url='http://pbs.twimg.com/profile_images/1395536363869536258/2Stzj4wV_normal.jpg', profile_image_url_https='https://pbs.twimg.com/profile_images/1395536363869536258/2Stzj4wV_normal.jpg', profile_banner_url='https://pbs.twimg.com/profile_banners/1394707784071925766/1622476736', profile_link_color='1DA1F2', profile_sidebar_border_color='C0DEED', profile_sidebar_fill_color='DDEEF6', profile_text_color='333333', profile_use_background_image=True, has_extended_profile=True, default_profile=True, default_profile_image=False, following=False, follow_request_sent=False, notifications=False, translator_type='none', withheld_in_countries=[]), user=User(_api=<tweepy.api.API object at 0x00000290CDC719D0>, _json={'id': 1394707784071925766, 'id_str': '1394707784071925766', 'name': 'Don Jon', 'screen_name': 'DonJonBoy59', 'location': '', 'description': '', 'url': None, 'entities': {'description': {'urls': []}}, 'protected': False, 'followers_count': 4, 'friends_count': 39, 'listed_count': 0, 'created_at': 'Tue May 18 17:33:54 +0000 2021', 'favourites_count': 37, 'utc_offset': None, 'time_zone': None, 'geo_enabled': False, 'verified': False, 'statuses_count': 29, 'lang': None, 'contributors_enabled': False, 'is_translator': False, 'is_translation_enabled': False, 'profile_background_color': 'F5F8FA', 'profile_background_image_url': None, 'profile_background_image_url_https': None, 'profile_background_tile': False, 'profile_image_url': 'http://pbs.twimg.com/profile_images/1395536363869536258/2Stzj4wV_normal.jpg', 'profile_image_url_https': 'https://pbs.twimg.com/profile_images/1395536363869536258/2Stzj4wV_normal.jpg', 'profile_banner_url': 'https://pbs.twimg.com/profile_banners/1394707784071925766/1622476736', 'profile_link_color': '1DA1F2', 'profile_sidebar_border_color': 'C0DEED', 'profile_sidebar_fill_color': 'DDEEF6', 'profile_text_color': '333333', 'profile_use_background_image': True, 'has_extended_profile': True, 'default_profile': True, 'default_profile_image': False, 'following': False, 'follow_request_sent': False, 'notifications': False, 'translator_type': 'none', 'withheld_in_countries': []}, id=1394707784071925766, id_str='1394707784071925766', name='Don Jon', screen_name='DonJonBoy59', location='', description='', url=None, entities={'description': {'urls': []}}, protected=False, followers_count=4, friends_count=39, listed_count=0, created_at=datetime.datetime(2021, 5, 18, 17, 33, 54), favourites_count=37, utc_offset=None, time_zone=None, geo_enabled=False, verified=False, statuses_count=29, lang=None, contributors_enabled=False, is_translator=False, is_translation_enabled=False, profile_background_color='F5F8FA', profile_background_image_url=None, profile_background_image_url_https=None, profile_background_tile=False, profile_image_url='http://pbs.twimg.com/profile_images/1395536363869536258/2Stzj4wV_normal.jpg', profile_image_url_https='https://pbs.twimg.com/profile_images/1395536363869536258/2Stzj4wV_normal.jpg', profile_banner_url='https://pbs.twimg.com/profile_banners/1394707784071925766/1622476736', profile_link_color='1DA1F2', profile_sidebar_border_color='C0DEED', profile_sidebar_fill_color='DDEEF6', profile_text_color='333333', profile_use_background_image=True, has_extended_profile=True, default_profile=True, default_profile_image=False, following=False, follow_request_sent=False, notifications=False, translator_type='none', withheld_in_countries=[]), geo=None, coordinates=None, place=None, contributors=None, is_quote_status=False, retweet_count=0, favorite_count=0, favorited=False, retweeted=False, lang='en')\n",
      "=================================================\n",
      "Status(_api=<tweepy.api.API object at 0x00000290CDC719D0>, _json={'created_at': 'Wed Jun 23 02:59:46 +0000 2021', 'id': 1407533811924152321, 'id_str': '1407533811924152321', 'full_text': 'No Joe it’s called saving the integrity of our Elections!!! So do us all a favor and STFU!! \\n\\nREPORT: Biden rages against Republicans over blocked election overhaul https://t.co/IVDU8AMw9s', 'truncated': False, 'display_text_range': [0, 188], 'entities': {'hashtags': [], 'symbols': [], 'user_mentions': [], 'urls': [{'url': 'https://t.co/IVDU8AMw9s', 'expanded_url': 'https://dennismichaellynch.com/report-biden-rages-against-republicans-over-blocked-election-overhaul/', 'display_url': 'dennismichaellynch.com/report-biden-r…', 'indices': [165, 188]}]}, 'metadata': {'iso_language_code': 'en', 'result_type': 'recent'}, 'source': '<a href=\"http://twitter.com/download/iphone\" rel=\"nofollow\">Twitter for iPhone</a>', 'in_reply_to_status_id': None, 'in_reply_to_status_id_str': None, 'in_reply_to_user_id': None, 'in_reply_to_user_id_str': None, 'in_reply_to_screen_name': None, 'user': {'id': 1357044199980433411, 'id_str': '1357044199980433411', 'name': 'Francie Guida 🇺🇸🇺🇸🇺🇸', 'screen_name': 'FrancieGuida', 'location': '', 'description': '\"The further a society drifts from the truth, the more it will hate those who speak it.\" - George Orwell                             #MAGA #PATRIOT', 'url': None, 'entities': {'description': {'urls': []}}, 'protected': False, 'followers_count': 2085, 'friends_count': 1989, 'listed_count': 0, 'created_at': 'Wed Feb 03 19:12:52 +0000 2021', 'favourites_count': 5921, 'utc_offset': None, 'time_zone': None, 'geo_enabled': False, 'verified': False, 'statuses_count': 4304, 'lang': None, 'contributors_enabled': False, 'is_translator': False, 'is_translation_enabled': False, 'profile_background_color': 'F5F8FA', 'profile_background_image_url': None, 'profile_background_image_url_https': None, 'profile_background_tile': False, 'profile_image_url': 'http://pbs.twimg.com/profile_images/1361708702798147585/fpwRb0fL_normal.jpg', 'profile_image_url_https': 'https://pbs.twimg.com/profile_images/1361708702798147585/fpwRb0fL_normal.jpg', 'profile_link_color': '1DA1F2', 'profile_sidebar_border_color': 'C0DEED', 'profile_sidebar_fill_color': 'DDEEF6', 'profile_text_color': '333333', 'profile_use_background_image': True, 'has_extended_profile': True, 'default_profile': True, 'default_profile_image': False, 'following': False, 'follow_request_sent': False, 'notifications': False, 'translator_type': 'none', 'withheld_in_countries': []}, 'geo': None, 'coordinates': None, 'place': None, 'contributors': None, 'is_quote_status': False, 'retweet_count': 1, 'favorite_count': 2, 'favorited': False, 'retweeted': False, 'possibly_sensitive': True, 'lang': 'en'}, created_at=datetime.datetime(2021, 6, 23, 2, 59, 46), id=1407533811924152321, id_str='1407533811924152321', full_text='No Joe it’s called saving the integrity of our Elections!!! So do us all a favor and STFU!! \\n\\nREPORT: Biden rages against Republicans over blocked election overhaul https://t.co/IVDU8AMw9s', truncated=False, display_text_range=[0, 188], entities={'hashtags': [], 'symbols': [], 'user_mentions': [], 'urls': [{'url': 'https://t.co/IVDU8AMw9s', 'expanded_url': 'https://dennismichaellynch.com/report-biden-rages-against-republicans-over-blocked-election-overhaul/', 'display_url': 'dennismichaellynch.com/report-biden-r…', 'indices': [165, 188]}]}, metadata={'iso_language_code': 'en', 'result_type': 'recent'}, source='Twitter for iPhone', source_url='http://twitter.com/download/iphone', in_reply_to_status_id=None, in_reply_to_status_id_str=None, in_reply_to_user_id=None, in_reply_to_user_id_str=None, in_reply_to_screen_name=None, author=User(_api=<tweepy.api.API object at 0x00000290CDC719D0>, _json={'id': 1357044199980433411, 'id_str': '1357044199980433411', 'name': 'Francie Guida 🇺🇸🇺🇸🇺🇸', 'screen_name': 'FrancieGuida', 'location': '', 'description': '\"The further a society drifts from the truth, the more it will hate those who speak it.\" - George Orwell                             #MAGA #PATRIOT', 'url': None, 'entities': {'description': {'urls': []}}, 'protected': False, 'followers_count': 2085, 'friends_count': 1989, 'listed_count': 0, 'created_at': 'Wed Feb 03 19:12:52 +0000 2021', 'favourites_count': 5921, 'utc_offset': None, 'time_zone': None, 'geo_enabled': False, 'verified': False, 'statuses_count': 4304, 'lang': None, 'contributors_enabled': False, 'is_translator': False, 'is_translation_enabled': False, 'profile_background_color': 'F5F8FA', 'profile_background_image_url': None, 'profile_background_image_url_https': None, 'profile_background_tile': False, 'profile_image_url': 'http://pbs.twimg.com/profile_images/1361708702798147585/fpwRb0fL_normal.jpg', 'profile_image_url_https': 'https://pbs.twimg.com/profile_images/1361708702798147585/fpwRb0fL_normal.jpg', 'profile_link_color': '1DA1F2', 'profile_sidebar_border_color': 'C0DEED', 'profile_sidebar_fill_color': 'DDEEF6', 'profile_text_color': '333333', 'profile_use_background_image': True, 'has_extended_profile': True, 'default_profile': True, 'default_profile_image': False, 'following': False, 'follow_request_sent': False, 'notifications': False, 'translator_type': 'none', 'withheld_in_countries': []}, id=1357044199980433411, id_str='1357044199980433411', name='Francie Guida 🇺🇸🇺🇸🇺🇸', screen_name='FrancieGuida', location='', description='\"The further a society drifts from the truth, the more it will hate those who speak it.\" - George Orwell                             #MAGA #PATRIOT', url=None, entities={'description': {'urls': []}}, protected=False, followers_count=2085, friends_count=1989, listed_count=0, created_at=datetime.datetime(2021, 2, 3, 19, 12, 52), favourites_count=5921, utc_offset=None, time_zone=None, geo_enabled=False, verified=False, statuses_count=4304, lang=None, contributors_enabled=False, is_translator=False, is_translation_enabled=False, profile_background_color='F5F8FA', profile_background_image_url=None, profile_background_image_url_https=None, profile_background_tile=False, profile_image_url='http://pbs.twimg.com/profile_images/1361708702798147585/fpwRb0fL_normal.jpg', profile_image_url_https='https://pbs.twimg.com/profile_images/1361708702798147585/fpwRb0fL_normal.jpg', profile_link_color='1DA1F2', profile_sidebar_border_color='C0DEED', profile_sidebar_fill_color='DDEEF6', profile_text_color='333333', profile_use_background_image=True, has_extended_profile=True, default_profile=True, default_profile_image=False, following=False, follow_request_sent=False, notifications=False, translator_type='none', withheld_in_countries=[]), user=User(_api=<tweepy.api.API object at 0x00000290CDC719D0>, _json={'id': 1357044199980433411, 'id_str': '1357044199980433411', 'name': 'Francie Guida 🇺🇸🇺🇸🇺🇸', 'screen_name': 'FrancieGuida', 'location': '', 'description': '\"The further a society drifts from the truth, the more it will hate those who speak it.\" - George Orwell                             #MAGA #PATRIOT', 'url': None, 'entities': {'description': {'urls': []}}, 'protected': False, 'followers_count': 2085, 'friends_count': 1989, 'listed_count': 0, 'created_at': 'Wed Feb 03 19:12:52 +0000 2021', 'favourites_count': 5921, 'utc_offset': None, 'time_zone': None, 'geo_enabled': False, 'verified': False, 'statuses_count': 4304, 'lang': None, 'contributors_enabled': False, 'is_translator': False, 'is_translation_enabled': False, 'profile_background_color': 'F5F8FA', 'profile_background_image_url': None, 'profile_background_image_url_https': None, 'profile_background_tile': False, 'profile_image_url': 'http://pbs.twimg.com/profile_images/1361708702798147585/fpwRb0fL_normal.jpg', 'profile_image_url_https': 'https://pbs.twimg.com/profile_images/1361708702798147585/fpwRb0fL_normal.jpg', 'profile_link_color': '1DA1F2', 'profile_sidebar_border_color': 'C0DEED', 'profile_sidebar_fill_color': 'DDEEF6', 'profile_text_color': '333333', 'profile_use_background_image': True, 'has_extended_profile': True, 'default_profile': True, 'default_profile_image': False, 'following': False, 'follow_request_sent': False, 'notifications': False, 'translator_type': 'none', 'withheld_in_countries': []}, id=1357044199980433411, id_str='1357044199980433411', name='Francie Guida 🇺🇸🇺🇸🇺🇸', screen_name='FrancieGuida', location='', description='\"The further a society drifts from the truth, the more it will hate those who speak it.\" - George Orwell                             #MAGA #PATRIOT', url=None, entities={'description': {'urls': []}}, protected=False, followers_count=2085, friends_count=1989, listed_count=0, created_at=datetime.datetime(2021, 2, 3, 19, 12, 52), favourites_count=5921, utc_offset=None, time_zone=None, geo_enabled=False, verified=False, statuses_count=4304, lang=None, contributors_enabled=False, is_translator=False, is_translation_enabled=False, profile_background_color='F5F8FA', profile_background_image_url=None, profile_background_image_url_https=None, profile_background_tile=False, profile_image_url='http://pbs.twimg.com/profile_images/1361708702798147585/fpwRb0fL_normal.jpg', profile_image_url_https='https://pbs.twimg.com/profile_images/1361708702798147585/fpwRb0fL_normal.jpg', profile_link_color='1DA1F2', profile_sidebar_border_color='C0DEED', profile_sidebar_fill_color='DDEEF6', profile_text_color='333333', profile_use_background_image=True, has_extended_profile=True, default_profile=True, default_profile_image=False, following=False, follow_request_sent=False, notifications=False, translator_type='none', withheld_in_countries=[]), geo=None, coordinates=None, place=None, contributors=None, is_quote_status=False, retweet_count=1, favorite_count=2, favorited=False, retweeted=False, possibly_sensitive=True, lang='en')\n",
      "=================================================\n",
      "Status(_api=<tweepy.api.API object at 0x00000290CDC719D0>, _json={'created_at': 'Wed Jun 23 02:09:43 +0000 2021', 'id': 1407521216877969414, 'id_str': '1407521216877969414', 'full_text': '“People have been trying to exploit our county, trying to persuade us to conduct an audit when there’s absolutely no indication there was fraud,” said Owen Goslin, a member of an advocacy group called Center for Change Northern Michigan.\\n#Cheboygan #BigLie\\nhttps://t.co/7Xxq8OBqmO', 'truncated': False, 'display_text_range': [0, 280], 'entities': {'hashtags': [{'text': 'Cheboygan', 'indices': [238, 248]}, {'text': 'BigLie', 'indices': [249, 256]}], 'symbols': [], 'user_mentions': [], 'urls': [{'url': 'https://t.co/7Xxq8OBqmO', 'expanded_url': 'https://apnews.com/article/donald-trump-joe-biden-election-recounts-election-2020-government-and-politics-349db5560a365dc34cf42ee39223122b', 'display_url': 'apnews.com/article/donald…', 'indices': [257, 280]}]}, 'metadata': {'iso_language_code': 'en', 'result_type': 'recent'}, 'source': '<a href=\"https://mobile.twitter.com\" rel=\"nofollow\">Twitter Web App</a>', 'in_reply_to_status_id': None, 'in_reply_to_status_id_str': None, 'in_reply_to_user_id': None, 'in_reply_to_user_id_str': None, 'in_reply_to_screen_name': None, 'user': {'id': 1120160660288090115, 'id_str': '1120160660288090115', 'name': 'Center For Change Northern Michigan', 'screen_name': 'Center_4_Change', 'location': 'Michigan, USA', 'description': 'We are advocates working for progressive solutions to problems faced by residents in the Michigan 107th state house district.', 'url': 'https://t.co/f4yOPxzM99', 'entities': {'url': {'urls': [{'url': 'https://t.co/f4yOPxzM99', 'expanded_url': 'http://c4cmi.org', 'display_url': 'c4cmi.org', 'indices': [0, 23]}]}, 'description': {'urls': []}}, 'protected': False, 'followers_count': 254, 'friends_count': 535, 'listed_count': 3, 'created_at': 'Mon Apr 22 03:01:27 +0000 2019', 'favourites_count': 3201, 'utc_offset': None, 'time_zone': None, 'geo_enabled': False, 'verified': False, 'statuses_count': 805, 'lang': None, 'contributors_enabled': False, 'is_translator': False, 'is_translation_enabled': False, 'profile_background_color': 'F5F8FA', 'profile_background_image_url': None, 'profile_background_image_url_https': None, 'profile_background_tile': False, 'profile_image_url': 'http://pbs.twimg.com/profile_images/1120161122080964611/EPeSyd4g_normal.jpg', 'profile_image_url_https': 'https://pbs.twimg.com/profile_images/1120161122080964611/EPeSyd4g_normal.jpg', 'profile_banner_url': 'https://pbs.twimg.com/profile_banners/1120160660288090115/1555902636', 'profile_link_color': '1DA1F2', 'profile_sidebar_border_color': 'C0DEED', 'profile_sidebar_fill_color': 'DDEEF6', 'profile_text_color': '333333', 'profile_use_background_image': True, 'has_extended_profile': False, 'default_profile': True, 'default_profile_image': False, 'following': False, 'follow_request_sent': False, 'notifications': False, 'translator_type': 'none', 'withheld_in_countries': []}, 'geo': None, 'coordinates': None, 'place': None, 'contributors': None, 'is_quote_status': False, 'retweet_count': 2, 'favorite_count': 6, 'favorited': False, 'retweeted': False, 'possibly_sensitive': False, 'lang': 'en'}, created_at=datetime.datetime(2021, 6, 23, 2, 9, 43), id=1407521216877969414, id_str='1407521216877969414', full_text='“People have been trying to exploit our county, trying to persuade us to conduct an audit when there’s absolutely no indication there was fraud,” said Owen Goslin, a member of an advocacy group called Center for Change Northern Michigan.\\n#Cheboygan #BigLie\\nhttps://t.co/7Xxq8OBqmO', truncated=False, display_text_range=[0, 280], entities={'hashtags': [{'text': 'Cheboygan', 'indices': [238, 248]}, {'text': 'BigLie', 'indices': [249, 256]}], 'symbols': [], 'user_mentions': [], 'urls': [{'url': 'https://t.co/7Xxq8OBqmO', 'expanded_url': 'https://apnews.com/article/donald-trump-joe-biden-election-recounts-election-2020-government-and-politics-349db5560a365dc34cf42ee39223122b', 'display_url': 'apnews.com/article/donald…', 'indices': [257, 280]}]}, metadata={'iso_language_code': 'en', 'result_type': 'recent'}, source='Twitter Web App', source_url='https://mobile.twitter.com', in_reply_to_status_id=None, in_reply_to_status_id_str=None, in_reply_to_user_id=None, in_reply_to_user_id_str=None, in_reply_to_screen_name=None, author=User(_api=<tweepy.api.API object at 0x00000290CDC719D0>, _json={'id': 1120160660288090115, 'id_str': '1120160660288090115', 'name': 'Center For Change Northern Michigan', 'screen_name': 'Center_4_Change', 'location': 'Michigan, USA', 'description': 'We are advocates working for progressive solutions to problems faced by residents in the Michigan 107th state house district.', 'url': 'https://t.co/f4yOPxzM99', 'entities': {'url': {'urls': [{'url': 'https://t.co/f4yOPxzM99', 'expanded_url': 'http://c4cmi.org', 'display_url': 'c4cmi.org', 'indices': [0, 23]}]}, 'description': {'urls': []}}, 'protected': False, 'followers_count': 254, 'friends_count': 535, 'listed_count': 3, 'created_at': 'Mon Apr 22 03:01:27 +0000 2019', 'favourites_count': 3201, 'utc_offset': None, 'time_zone': None, 'geo_enabled': False, 'verified': False, 'statuses_count': 805, 'lang': None, 'contributors_enabled': False, 'is_translator': False, 'is_translation_enabled': False, 'profile_background_color': 'F5F8FA', 'profile_background_image_url': None, 'profile_background_image_url_https': None, 'profile_background_tile': False, 'profile_image_url': 'http://pbs.twimg.com/profile_images/1120161122080964611/EPeSyd4g_normal.jpg', 'profile_image_url_https': 'https://pbs.twimg.com/profile_images/1120161122080964611/EPeSyd4g_normal.jpg', 'profile_banner_url': 'https://pbs.twimg.com/profile_banners/1120160660288090115/1555902636', 'profile_link_color': '1DA1F2', 'profile_sidebar_border_color': 'C0DEED', 'profile_sidebar_fill_color': 'DDEEF6', 'profile_text_color': '333333', 'profile_use_background_image': True, 'has_extended_profile': False, 'default_profile': True, 'default_profile_image': False, 'following': False, 'follow_request_sent': False, 'notifications': False, 'translator_type': 'none', 'withheld_in_countries': []}, id=1120160660288090115, id_str='1120160660288090115', name='Center For Change Northern Michigan', screen_name='Center_4_Change', location='Michigan, USA', description='We are advocates working for progressive solutions to problems faced by residents in the Michigan 107th state house district.', url='https://t.co/f4yOPxzM99', entities={'url': {'urls': [{'url': 'https://t.co/f4yOPxzM99', 'expanded_url': 'http://c4cmi.org', 'display_url': 'c4cmi.org', 'indices': [0, 23]}]}, 'description': {'urls': []}}, protected=False, followers_count=254, friends_count=535, listed_count=3, created_at=datetime.datetime(2019, 4, 22, 3, 1, 27), favourites_count=3201, utc_offset=None, time_zone=None, geo_enabled=False, verified=False, statuses_count=805, lang=None, contributors_enabled=False, is_translator=False, is_translation_enabled=False, profile_background_color='F5F8FA', profile_background_image_url=None, profile_background_image_url_https=None, profile_background_tile=False, profile_image_url='http://pbs.twimg.com/profile_images/1120161122080964611/EPeSyd4g_normal.jpg', profile_image_url_https='https://pbs.twimg.com/profile_images/1120161122080964611/EPeSyd4g_normal.jpg', profile_banner_url='https://pbs.twimg.com/profile_banners/1120160660288090115/1555902636', profile_link_color='1DA1F2', profile_sidebar_border_color='C0DEED', profile_sidebar_fill_color='DDEEF6', profile_text_color='333333', profile_use_background_image=True, has_extended_profile=False, default_profile=True, default_profile_image=False, following=False, follow_request_sent=False, notifications=False, translator_type='none', withheld_in_countries=[]), user=User(_api=<tweepy.api.API object at 0x00000290CDC719D0>, _json={'id': 1120160660288090115, 'id_str': '1120160660288090115', 'name': 'Center For Change Northern Michigan', 'screen_name': 'Center_4_Change', 'location': 'Michigan, USA', 'description': 'We are advocates working for progressive solutions to problems faced by residents in the Michigan 107th state house district.', 'url': 'https://t.co/f4yOPxzM99', 'entities': {'url': {'urls': [{'url': 'https://t.co/f4yOPxzM99', 'expanded_url': 'http://c4cmi.org', 'display_url': 'c4cmi.org', 'indices': [0, 23]}]}, 'description': {'urls': []}}, 'protected': False, 'followers_count': 254, 'friends_count': 535, 'listed_count': 3, 'created_at': 'Mon Apr 22 03:01:27 +0000 2019', 'favourites_count': 3201, 'utc_offset': None, 'time_zone': None, 'geo_enabled': False, 'verified': False, 'statuses_count': 805, 'lang': None, 'contributors_enabled': False, 'is_translator': False, 'is_translation_enabled': False, 'profile_background_color': 'F5F8FA', 'profile_background_image_url': None, 'profile_background_image_url_https': None, 'profile_background_tile': False, 'profile_image_url': 'http://pbs.twimg.com/profile_images/1120161122080964611/EPeSyd4g_normal.jpg', 'profile_image_url_https': 'https://pbs.twimg.com/profile_images/1120161122080964611/EPeSyd4g_normal.jpg', 'profile_banner_url': 'https://pbs.twimg.com/profile_banners/1120160660288090115/1555902636', 'profile_link_color': '1DA1F2', 'profile_sidebar_border_color': 'C0DEED', 'profile_sidebar_fill_color': 'DDEEF6', 'profile_text_color': '333333', 'profile_use_background_image': True, 'has_extended_profile': False, 'default_profile': True, 'default_profile_image': False, 'following': False, 'follow_request_sent': False, 'notifications': False, 'translator_type': 'none', 'withheld_in_countries': []}, id=1120160660288090115, id_str='1120160660288090115', name='Center For Change Northern Michigan', screen_name='Center_4_Change', location='Michigan, USA', description='We are advocates working for progressive solutions to problems faced by residents in the Michigan 107th state house district.', url='https://t.co/f4yOPxzM99', entities={'url': {'urls': [{'url': 'https://t.co/f4yOPxzM99', 'expanded_url': 'http://c4cmi.org', 'display_url': 'c4cmi.org', 'indices': [0, 23]}]}, 'description': {'urls': []}}, protected=False, followers_count=254, friends_count=535, listed_count=3, created_at=datetime.datetime(2019, 4, 22, 3, 1, 27), favourites_count=3201, utc_offset=None, time_zone=None, geo_enabled=False, verified=False, statuses_count=805, lang=None, contributors_enabled=False, is_translator=False, is_translation_enabled=False, profile_background_color='F5F8FA', profile_background_image_url=None, profile_background_image_url_https=None, profile_background_tile=False, profile_image_url='http://pbs.twimg.com/profile_images/1120161122080964611/EPeSyd4g_normal.jpg', profile_image_url_https='https://pbs.twimg.com/profile_images/1120161122080964611/EPeSyd4g_normal.jpg', profile_banner_url='https://pbs.twimg.com/profile_banners/1120160660288090115/1555902636', profile_link_color='1DA1F2', profile_sidebar_border_color='C0DEED', profile_sidebar_fill_color='DDEEF6', profile_text_color='333333', profile_use_background_image=True, has_extended_profile=False, default_profile=True, default_profile_image=False, following=False, follow_request_sent=False, notifications=False, translator_type='none', withheld_in_countries=[]), geo=None, coordinates=None, place=None, contributors=None, is_quote_status=False, retweet_count=2, favorite_count=6, favorited=False, retweeted=False, possibly_sensitive=False, lang='en')\n",
      "=================================================\n",
      "Status(_api=<tweepy.api.API object at 0x00000290CDC719D0>, _json={'created_at': 'Wed Jun 23 01:38:13 +0000 2021', 'id': 1407513291425865729, 'id_str': '1407513291425865729', 'full_text': '\"Beckett, who became obsessed with the 2020 US presidential election, \"discussed the need to kill\" his family ahead of the \"great revelation\" on Jan. 20 - the day of President Joe Biden\\'s inauguration\"\\n\\nhttps://t.co/IvTYx1im4A \\n\\nyo @FBI u seen dis?', 'truncated': False, 'display_text_range': [0, 248], 'entities': {'hashtags': [], 'symbols': [], 'user_mentions': [{'screen_name': 'FBI', 'name': 'FBI', 'id': 17629860, 'id_str': '17629860', 'indices': [232, 236]}], 'urls': [{'url': 'https://t.co/IvTYx1im4A', 'expanded_url': 'http://a.msn.com/01/en-us/AALjKE2?ocid=st', 'display_url': 'a.msn.com/01/en-us/AALjK…', 'indices': [203, 226]}]}, 'metadata': {'iso_language_code': 'en', 'result_type': 'recent'}, 'source': '<a href=\"https://mobile.twitter.com\" rel=\"nofollow\">Twitter Web App</a>', 'in_reply_to_status_id': None, 'in_reply_to_status_id_str': None, 'in_reply_to_user_id': None, 'in_reply_to_user_id_str': None, 'in_reply_to_screen_name': None, 'user': {'id': 1301852684853542912, 'id_str': '1301852684853542912', 'name': 'Jitarth Jadeja', 'screen_name': 'JitarthJadeja', 'location': 'Sydney, Australia, Milky Way', 'description': '\"Charming and jovial\" - Rolling Stone\\n\"He\\'s not a real person bro, trust me\" - Romans116 \\n\"Jitarth is my iPhone wallpaper\" - My Mum', 'url': 'https://t.co/iR75wvY0Lm', 'entities': {'url': {'urls': [{'url': 'https://t.co/iR75wvY0Lm', 'expanded_url': 'https://www.reddit.com/r/Qult_Headquarters/comments/c045jw/you_guys_were_right/', 'display_url': 'reddit.com/r/Qult_Headqua…', 'indices': [0, 23]}]}, 'description': {'urls': []}}, 'protected': False, 'followers_count': 548, 'friends_count': 69, 'listed_count': 8, 'created_at': 'Fri Sep 04 12:01:00 +0000 2020', 'favourites_count': 1186, 'utc_offset': None, 'time_zone': None, 'geo_enabled': False, 'verified': False, 'statuses_count': 713, 'lang': None, 'contributors_enabled': False, 'is_translator': False, 'is_translation_enabled': False, 'profile_background_color': 'F5F8FA', 'profile_background_image_url': None, 'profile_background_image_url_https': None, 'profile_background_tile': False, 'profile_image_url': 'http://pbs.twimg.com/profile_images/1319148810652643328/rmXdUnJN_normal.jpg', 'profile_image_url_https': 'https://pbs.twimg.com/profile_images/1319148810652643328/rmXdUnJN_normal.jpg', 'profile_banner_url': 'https://pbs.twimg.com/profile_banners/1301852684853542912/1603676396', 'profile_link_color': '1DA1F2', 'profile_sidebar_border_color': 'C0DEED', 'profile_sidebar_fill_color': 'DDEEF6', 'profile_text_color': '333333', 'profile_use_background_image': True, 'has_extended_profile': True, 'default_profile': True, 'default_profile_image': False, 'following': False, 'follow_request_sent': False, 'notifications': False, 'translator_type': 'none', 'withheld_in_countries': []}, 'geo': None, 'coordinates': None, 'place': None, 'contributors': None, 'is_quote_status': False, 'retweet_count': 1, 'favorite_count': 1, 'favorited': False, 'retweeted': False, 'possibly_sensitive': False, 'lang': 'en'}, created_at=datetime.datetime(2021, 6, 23, 1, 38, 13), id=1407513291425865729, id_str='1407513291425865729', full_text='\"Beckett, who became obsessed with the 2020 US presidential election, \"discussed the need to kill\" his family ahead of the \"great revelation\" on Jan. 20 - the day of President Joe Biden\\'s inauguration\"\\n\\nhttps://t.co/IvTYx1im4A \\n\\nyo @FBI u seen dis?', truncated=False, display_text_range=[0, 248], entities={'hashtags': [], 'symbols': [], 'user_mentions': [{'screen_name': 'FBI', 'name': 'FBI', 'id': 17629860, 'id_str': '17629860', 'indices': [232, 236]}], 'urls': [{'url': 'https://t.co/IvTYx1im4A', 'expanded_url': 'http://a.msn.com/01/en-us/AALjKE2?ocid=st', 'display_url': 'a.msn.com/01/en-us/AALjK…', 'indices': [203, 226]}]}, metadata={'iso_language_code': 'en', 'result_type': 'recent'}, source='Twitter Web App', source_url='https://mobile.twitter.com', in_reply_to_status_id=None, in_reply_to_status_id_str=None, in_reply_to_user_id=None, in_reply_to_user_id_str=None, in_reply_to_screen_name=None, author=User(_api=<tweepy.api.API object at 0x00000290CDC719D0>, _json={'id': 1301852684853542912, 'id_str': '1301852684853542912', 'name': 'Jitarth Jadeja', 'screen_name': 'JitarthJadeja', 'location': 'Sydney, Australia, Milky Way', 'description': '\"Charming and jovial\" - Rolling Stone\\n\"He\\'s not a real person bro, trust me\" - Romans116 \\n\"Jitarth is my iPhone wallpaper\" - My Mum', 'url': 'https://t.co/iR75wvY0Lm', 'entities': {'url': {'urls': [{'url': 'https://t.co/iR75wvY0Lm', 'expanded_url': 'https://www.reddit.com/r/Qult_Headquarters/comments/c045jw/you_guys_were_right/', 'display_url': 'reddit.com/r/Qult_Headqua…', 'indices': [0, 23]}]}, 'description': {'urls': []}}, 'protected': False, 'followers_count': 548, 'friends_count': 69, 'listed_count': 8, 'created_at': 'Fri Sep 04 12:01:00 +0000 2020', 'favourites_count': 1186, 'utc_offset': None, 'time_zone': None, 'geo_enabled': False, 'verified': False, 'statuses_count': 713, 'lang': None, 'contributors_enabled': False, 'is_translator': False, 'is_translation_enabled': False, 'profile_background_color': 'F5F8FA', 'profile_background_image_url': None, 'profile_background_image_url_https': None, 'profile_background_tile': False, 'profile_image_url': 'http://pbs.twimg.com/profile_images/1319148810652643328/rmXdUnJN_normal.jpg', 'profile_image_url_https': 'https://pbs.twimg.com/profile_images/1319148810652643328/rmXdUnJN_normal.jpg', 'profile_banner_url': 'https://pbs.twimg.com/profile_banners/1301852684853542912/1603676396', 'profile_link_color': '1DA1F2', 'profile_sidebar_border_color': 'C0DEED', 'profile_sidebar_fill_color': 'DDEEF6', 'profile_text_color': '333333', 'profile_use_background_image': True, 'has_extended_profile': True, 'default_profile': True, 'default_profile_image': False, 'following': False, 'follow_request_sent': False, 'notifications': False, 'translator_type': 'none', 'withheld_in_countries': []}, id=1301852684853542912, id_str='1301852684853542912', name='Jitarth Jadeja', screen_name='JitarthJadeja', location='Sydney, Australia, Milky Way', description='\"Charming and jovial\" - Rolling Stone\\n\"He\\'s not a real person bro, trust me\" - Romans116 \\n\"Jitarth is my iPhone wallpaper\" - My Mum', url='https://t.co/iR75wvY0Lm', entities={'url': {'urls': [{'url': 'https://t.co/iR75wvY0Lm', 'expanded_url': 'https://www.reddit.com/r/Qult_Headquarters/comments/c045jw/you_guys_were_right/', 'display_url': 'reddit.com/r/Qult_Headqua…', 'indices': [0, 23]}]}, 'description': {'urls': []}}, protected=False, followers_count=548, friends_count=69, listed_count=8, created_at=datetime.datetime(2020, 9, 4, 12, 1), favourites_count=1186, utc_offset=None, time_zone=None, geo_enabled=False, verified=False, statuses_count=713, lang=None, contributors_enabled=False, is_translator=False, is_translation_enabled=False, profile_background_color='F5F8FA', profile_background_image_url=None, profile_background_image_url_https=None, profile_background_tile=False, profile_image_url='http://pbs.twimg.com/profile_images/1319148810652643328/rmXdUnJN_normal.jpg', profile_image_url_https='https://pbs.twimg.com/profile_images/1319148810652643328/rmXdUnJN_normal.jpg', profile_banner_url='https://pbs.twimg.com/profile_banners/1301852684853542912/1603676396', profile_link_color='1DA1F2', profile_sidebar_border_color='C0DEED', profile_sidebar_fill_color='DDEEF6', profile_text_color='333333', profile_use_background_image=True, has_extended_profile=True, default_profile=True, default_profile_image=False, following=False, follow_request_sent=False, notifications=False, translator_type='none', withheld_in_countries=[]), user=User(_api=<tweepy.api.API object at 0x00000290CDC719D0>, _json={'id': 1301852684853542912, 'id_str': '1301852684853542912', 'name': 'Jitarth Jadeja', 'screen_name': 'JitarthJadeja', 'location': 'Sydney, Australia, Milky Way', 'description': '\"Charming and jovial\" - Rolling Stone\\n\"He\\'s not a real person bro, trust me\" - Romans116 \\n\"Jitarth is my iPhone wallpaper\" - My Mum', 'url': 'https://t.co/iR75wvY0Lm', 'entities': {'url': {'urls': [{'url': 'https://t.co/iR75wvY0Lm', 'expanded_url': 'https://www.reddit.com/r/Qult_Headquarters/comments/c045jw/you_guys_were_right/', 'display_url': 'reddit.com/r/Qult_Headqua…', 'indices': [0, 23]}]}, 'description': {'urls': []}}, 'protected': False, 'followers_count': 548, 'friends_count': 69, 'listed_count': 8, 'created_at': 'Fri Sep 04 12:01:00 +0000 2020', 'favourites_count': 1186, 'utc_offset': None, 'time_zone': None, 'geo_enabled': False, 'verified': False, 'statuses_count': 713, 'lang': None, 'contributors_enabled': False, 'is_translator': False, 'is_translation_enabled': False, 'profile_background_color': 'F5F8FA', 'profile_background_image_url': None, 'profile_background_image_url_https': None, 'profile_background_tile': False, 'profile_image_url': 'http://pbs.twimg.com/profile_images/1319148810652643328/rmXdUnJN_normal.jpg', 'profile_image_url_https': 'https://pbs.twimg.com/profile_images/1319148810652643328/rmXdUnJN_normal.jpg', 'profile_banner_url': 'https://pbs.twimg.com/profile_banners/1301852684853542912/1603676396', 'profile_link_color': '1DA1F2', 'profile_sidebar_border_color': 'C0DEED', 'profile_sidebar_fill_color': 'DDEEF6', 'profile_text_color': '333333', 'profile_use_background_image': True, 'has_extended_profile': True, 'default_profile': True, 'default_profile_image': False, 'following': False, 'follow_request_sent': False, 'notifications': False, 'translator_type': 'none', 'withheld_in_countries': []}, id=1301852684853542912, id_str='1301852684853542912', name='Jitarth Jadeja', screen_name='JitarthJadeja', location='Sydney, Australia, Milky Way', description='\"Charming and jovial\" - Rolling Stone\\n\"He\\'s not a real person bro, trust me\" - Romans116 \\n\"Jitarth is my iPhone wallpaper\" - My Mum', url='https://t.co/iR75wvY0Lm', entities={'url': {'urls': [{'url': 'https://t.co/iR75wvY0Lm', 'expanded_url': 'https://www.reddit.com/r/Qult_Headquarters/comments/c045jw/you_guys_were_right/', 'display_url': 'reddit.com/r/Qult_Headqua…', 'indices': [0, 23]}]}, 'description': {'urls': []}}, protected=False, followers_count=548, friends_count=69, listed_count=8, created_at=datetime.datetime(2020, 9, 4, 12, 1), favourites_count=1186, utc_offset=None, time_zone=None, geo_enabled=False, verified=False, statuses_count=713, lang=None, contributors_enabled=False, is_translator=False, is_translation_enabled=False, profile_background_color='F5F8FA', profile_background_image_url=None, profile_background_image_url_https=None, profile_background_tile=False, profile_image_url='http://pbs.twimg.com/profile_images/1319148810652643328/rmXdUnJN_normal.jpg', profile_image_url_https='https://pbs.twimg.com/profile_images/1319148810652643328/rmXdUnJN_normal.jpg', profile_banner_url='https://pbs.twimg.com/profile_banners/1301852684853542912/1603676396', profile_link_color='1DA1F2', profile_sidebar_border_color='C0DEED', profile_sidebar_fill_color='DDEEF6', profile_text_color='333333', profile_use_background_image=True, has_extended_profile=True, default_profile=True, default_profile_image=False, following=False, follow_request_sent=False, notifications=False, translator_type='none', withheld_in_countries=[]), geo=None, coordinates=None, place=None, contributors=None, is_quote_status=False, retweet_count=1, favorite_count=1, favorited=False, retweeted=False, possibly_sensitive=False, lang='en')\n",
      "=================================================\n",
      "Status(_api=<tweepy.api.API object at 0x00000290CDC719D0>, _json={'created_at': 'Wed Jun 23 01:23:26 +0000 2021', 'id': 1407509570696609794, 'id_str': '1407509570696609794', 'full_text': \"“Australians appeared to welcome the election of US President Joe Biden, with trust in Mr Biden rebounding to 69 per cent, more than doubling last year's result of 30 per cent for his predecessor Donald Trump.” \\n=&gt; vague optimism &gt; awkward realism. https://t.co/39rxEx8X7c\", 'truncated': False, 'display_text_range': [0, 278], 'entities': {'hashtags': [], 'symbols': [], 'user_mentions': [], 'urls': [{'url': 'https://t.co/39rxEx8X7c', 'expanded_url': 'https://apple.news/AYPU6uu38TTOo2szPPaIv2g', 'display_url': 'apple.news/AYPU6uu38TTOo2…', 'indices': [255, 278]}]}, 'metadata': {'iso_language_code': 'en', 'result_type': 'recent'}, 'source': '<a href=\"http://twitter.com/#!/download/ipad\" rel=\"nofollow\">Twitter for iPad</a>', 'in_reply_to_status_id': None, 'in_reply_to_status_id_str': None, 'in_reply_to_user_id': None, 'in_reply_to_user_id_str': None, 'in_reply_to_screen_name': None, 'user': {'id': 3259295526, 'id_str': '3259295526', 'name': \"Michael O'Rourke\", 'screen_name': 'MichaelACT123', 'location': 'The Bush Capital (Canberra)', 'description': 'Right-libertarian. “Empiricista”. Dabbler in academic philosophy. Poetaster. World & Australian history. Amateur Byzantinist. Former Federal Govt functionary.', 'url': None, 'entities': {'description': {'urls': []}}, 'protected': False, 'followers_count': 1142, 'friends_count': 849, 'listed_count': 37, 'created_at': 'Sun Jun 28 23:48:26 +0000 2015', 'favourites_count': 10632, 'utc_offset': None, 'time_zone': None, 'geo_enabled': True, 'verified': False, 'statuses_count': 56453, 'lang': None, 'contributors_enabled': False, 'is_translator': False, 'is_translation_enabled': False, 'profile_background_color': 'C0DEED', 'profile_background_image_url': 'http://abs.twimg.com/images/themes/theme1/bg.png', 'profile_background_image_url_https': 'https://abs.twimg.com/images/themes/theme1/bg.png', 'profile_background_tile': False, 'profile_image_url': 'http://pbs.twimg.com/profile_images/1375277567159062528/1oWE_qpx_normal.jpg', 'profile_image_url_https': 'https://pbs.twimg.com/profile_images/1375277567159062528/1oWE_qpx_normal.jpg', 'profile_banner_url': 'https://pbs.twimg.com/profile_banners/3259295526/1589700240', 'profile_link_color': '1DA1F2', 'profile_sidebar_border_color': 'C0DEED', 'profile_sidebar_fill_color': 'DDEEF6', 'profile_text_color': '333333', 'profile_use_background_image': True, 'has_extended_profile': False, 'default_profile': True, 'default_profile_image': False, 'following': False, 'follow_request_sent': False, 'notifications': False, 'translator_type': 'none', 'withheld_in_countries': []}, 'geo': None, 'coordinates': None, 'place': None, 'contributors': None, 'is_quote_status': False, 'retweet_count': 0, 'favorite_count': 0, 'favorited': False, 'retweeted': False, 'possibly_sensitive': False, 'lang': 'en'}, created_at=datetime.datetime(2021, 6, 23, 1, 23, 26), id=1407509570696609794, id_str='1407509570696609794', full_text=\"“Australians appeared to welcome the election of US President Joe Biden, with trust in Mr Biden rebounding to 69 per cent, more than doubling last year's result of 30 per cent for his predecessor Donald Trump.” \\n=&gt; vague optimism &gt; awkward realism. https://t.co/39rxEx8X7c\", truncated=False, display_text_range=[0, 278], entities={'hashtags': [], 'symbols': [], 'user_mentions': [], 'urls': [{'url': 'https://t.co/39rxEx8X7c', 'expanded_url': 'https://apple.news/AYPU6uu38TTOo2szPPaIv2g', 'display_url': 'apple.news/AYPU6uu38TTOo2…', 'indices': [255, 278]}]}, metadata={'iso_language_code': 'en', 'result_type': 'recent'}, source='Twitter for iPad', source_url='http://twitter.com/#!/download/ipad', in_reply_to_status_id=None, in_reply_to_status_id_str=None, in_reply_to_user_id=None, in_reply_to_user_id_str=None, in_reply_to_screen_name=None, author=User(_api=<tweepy.api.API object at 0x00000290CDC719D0>, _json={'id': 3259295526, 'id_str': '3259295526', 'name': \"Michael O'Rourke\", 'screen_name': 'MichaelACT123', 'location': 'The Bush Capital (Canberra)', 'description': 'Right-libertarian. “Empiricista”. Dabbler in academic philosophy. Poetaster. World & Australian history. Amateur Byzantinist. Former Federal Govt functionary.', 'url': None, 'entities': {'description': {'urls': []}}, 'protected': False, 'followers_count': 1142, 'friends_count': 849, 'listed_count': 37, 'created_at': 'Sun Jun 28 23:48:26 +0000 2015', 'favourites_count': 10632, 'utc_offset': None, 'time_zone': None, 'geo_enabled': True, 'verified': False, 'statuses_count': 56453, 'lang': None, 'contributors_enabled': False, 'is_translator': False, 'is_translation_enabled': False, 'profile_background_color': 'C0DEED', 'profile_background_image_url': 'http://abs.twimg.com/images/themes/theme1/bg.png', 'profile_background_image_url_https': 'https://abs.twimg.com/images/themes/theme1/bg.png', 'profile_background_tile': False, 'profile_image_url': 'http://pbs.twimg.com/profile_images/1375277567159062528/1oWE_qpx_normal.jpg', 'profile_image_url_https': 'https://pbs.twimg.com/profile_images/1375277567159062528/1oWE_qpx_normal.jpg', 'profile_banner_url': 'https://pbs.twimg.com/profile_banners/3259295526/1589700240', 'profile_link_color': '1DA1F2', 'profile_sidebar_border_color': 'C0DEED', 'profile_sidebar_fill_color': 'DDEEF6', 'profile_text_color': '333333', 'profile_use_background_image': True, 'has_extended_profile': False, 'default_profile': True, 'default_profile_image': False, 'following': False, 'follow_request_sent': False, 'notifications': False, 'translator_type': 'none', 'withheld_in_countries': []}, id=3259295526, id_str='3259295526', name=\"Michael O'Rourke\", screen_name='MichaelACT123', location='The Bush Capital (Canberra)', description='Right-libertarian. “Empiricista”. Dabbler in academic philosophy. Poetaster. World & Australian history. Amateur Byzantinist. Former Federal Govt functionary.', url=None, entities={'description': {'urls': []}}, protected=False, followers_count=1142, friends_count=849, listed_count=37, created_at=datetime.datetime(2015, 6, 28, 23, 48, 26), favourites_count=10632, utc_offset=None, time_zone=None, geo_enabled=True, verified=False, statuses_count=56453, lang=None, contributors_enabled=False, is_translator=False, is_translation_enabled=False, profile_background_color='C0DEED', profile_background_image_url='http://abs.twimg.com/images/themes/theme1/bg.png', profile_background_image_url_https='https://abs.twimg.com/images/themes/theme1/bg.png', profile_background_tile=False, profile_image_url='http://pbs.twimg.com/profile_images/1375277567159062528/1oWE_qpx_normal.jpg', profile_image_url_https='https://pbs.twimg.com/profile_images/1375277567159062528/1oWE_qpx_normal.jpg', profile_banner_url='https://pbs.twimg.com/profile_banners/3259295526/1589700240', profile_link_color='1DA1F2', profile_sidebar_border_color='C0DEED', profile_sidebar_fill_color='DDEEF6', profile_text_color='333333', profile_use_background_image=True, has_extended_profile=False, default_profile=True, default_profile_image=False, following=False, follow_request_sent=False, notifications=False, translator_type='none', withheld_in_countries=[]), user=User(_api=<tweepy.api.API object at 0x00000290CDC719D0>, _json={'id': 3259295526, 'id_str': '3259295526', 'name': \"Michael O'Rourke\", 'screen_name': 'MichaelACT123', 'location': 'The Bush Capital (Canberra)', 'description': 'Right-libertarian. “Empiricista”. Dabbler in academic philosophy. Poetaster. World & Australian history. Amateur Byzantinist. Former Federal Govt functionary.', 'url': None, 'entities': {'description': {'urls': []}}, 'protected': False, 'followers_count': 1142, 'friends_count': 849, 'listed_count': 37, 'created_at': 'Sun Jun 28 23:48:26 +0000 2015', 'favourites_count': 10632, 'utc_offset': None, 'time_zone': None, 'geo_enabled': True, 'verified': False, 'statuses_count': 56453, 'lang': None, 'contributors_enabled': False, 'is_translator': False, 'is_translation_enabled': False, 'profile_background_color': 'C0DEED', 'profile_background_image_url': 'http://abs.twimg.com/images/themes/theme1/bg.png', 'profile_background_image_url_https': 'https://abs.twimg.com/images/themes/theme1/bg.png', 'profile_background_tile': False, 'profile_image_url': 'http://pbs.twimg.com/profile_images/1375277567159062528/1oWE_qpx_normal.jpg', 'profile_image_url_https': 'https://pbs.twimg.com/profile_images/1375277567159062528/1oWE_qpx_normal.jpg', 'profile_banner_url': 'https://pbs.twimg.com/profile_banners/3259295526/1589700240', 'profile_link_color': '1DA1F2', 'profile_sidebar_border_color': 'C0DEED', 'profile_sidebar_fill_color': 'DDEEF6', 'profile_text_color': '333333', 'profile_use_background_image': True, 'has_extended_profile': False, 'default_profile': True, 'default_profile_image': False, 'following': False, 'follow_request_sent': False, 'notifications': False, 'translator_type': 'none', 'withheld_in_countries': []}, id=3259295526, id_str='3259295526', name=\"Michael O'Rourke\", screen_name='MichaelACT123', location='The Bush Capital (Canberra)', description='Right-libertarian. “Empiricista”. Dabbler in academic philosophy. Poetaster. World & Australian history. Amateur Byzantinist. Former Federal Govt functionary.', url=None, entities={'description': {'urls': []}}, protected=False, followers_count=1142, friends_count=849, listed_count=37, created_at=datetime.datetime(2015, 6, 28, 23, 48, 26), favourites_count=10632, utc_offset=None, time_zone=None, geo_enabled=True, verified=False, statuses_count=56453, lang=None, contributors_enabled=False, is_translator=False, is_translation_enabled=False, profile_background_color='C0DEED', profile_background_image_url='http://abs.twimg.com/images/themes/theme1/bg.png', profile_background_image_url_https='https://abs.twimg.com/images/themes/theme1/bg.png', profile_background_tile=False, profile_image_url='http://pbs.twimg.com/profile_images/1375277567159062528/1oWE_qpx_normal.jpg', profile_image_url_https='https://pbs.twimg.com/profile_images/1375277567159062528/1oWE_qpx_normal.jpg', profile_banner_url='https://pbs.twimg.com/profile_banners/3259295526/1589700240', profile_link_color='1DA1F2', profile_sidebar_border_color='C0DEED', profile_sidebar_fill_color='DDEEF6', profile_text_color='333333', profile_use_background_image=True, has_extended_profile=False, default_profile=True, default_profile_image=False, following=False, follow_request_sent=False, notifications=False, translator_type='none', withheld_in_countries=[]), geo=None, coordinates=None, place=None, contributors=None, is_quote_status=False, retweet_count=0, favorite_count=0, favorited=False, retweeted=False, possibly_sensitive=False, lang='en')\n",
      "=================================================\n",
      "Status(_api=<tweepy.api.API object at 0x00000290CDC719D0>, _json={'created_at': 'Wed Jun 23 00:47:23 +0000 2021', 'id': 1407500498056499202, 'id_str': '1407500498056499202', 'full_text': '“They’re actually making it easier for unelected judges and partisan election boards to overturn the results of an election, opening the door for some demagogue… to try and subvert our elections in the very same way that Trump tried to do in 2020.” https://t.co/KiXdXjACuu', 'truncated': False, 'display_text_range': [0, 272], 'entities': {'hashtags': [], 'symbols': [], 'user_mentions': [], 'urls': [{'url': 'https://t.co/KiXdXjACuu', 'expanded_url': 'https://www.theguardian.com/us-news/2021/jun/22/voting-rights-bill-joe-biden-senate-democrats?CMP=Share_iOSApp_Other', 'display_url': 'theguardian.com/us-news/2021/j…', 'indices': [249, 272]}]}, 'metadata': {'iso_language_code': 'en', 'result_type': 'recent'}, 'source': '<a href=\"http://twitter.com/download/iphone\" rel=\"nofollow\">Twitter for iPhone</a>', 'in_reply_to_status_id': None, 'in_reply_to_status_id_str': None, 'in_reply_to_user_id': None, 'in_reply_to_user_id_str': None, 'in_reply_to_screen_name': None, 'user': {'id': 565764200, 'id_str': '565764200', 'name': 'Chuck Darwin', 'screen_name': 'Chas_Darwin', 'location': 'Santa Barbara', 'description': 'Social and economic justice, technology and tennis. Chuck Darwin has yet to win a Grammy.', 'url': None, 'entities': {'description': {'urls': []}}, 'protected': False, 'followers_count': 327, 'friends_count': 592, 'listed_count': 48, 'created_at': 'Sat Apr 28 21:42:57 +0000 2012', 'favourites_count': 5362, 'utc_offset': None, 'time_zone': None, 'geo_enabled': False, 'verified': False, 'statuses_count': 38396, 'lang': None, 'contributors_enabled': False, 'is_translator': False, 'is_translation_enabled': False, 'profile_background_color': 'C6E2EE', 'profile_background_image_url': 'http://abs.twimg.com/images/themes/theme2/bg.gif', 'profile_background_image_url_https': 'https://abs.twimg.com/images/themes/theme2/bg.gif', 'profile_background_tile': False, 'profile_image_url': 'http://pbs.twimg.com/profile_images/2176354099/Darwin-Stensil_normal.jpg', 'profile_image_url_https': 'https://pbs.twimg.com/profile_images/2176354099/Darwin-Stensil_normal.jpg', 'profile_link_color': '1F98C7', 'profile_sidebar_border_color': 'C6E2EE', 'profile_sidebar_fill_color': 'DAECF4', 'profile_text_color': '663B12', 'profile_use_background_image': True, 'has_extended_profile': False, 'default_profile': False, 'default_profile_image': False, 'following': False, 'follow_request_sent': False, 'notifications': False, 'translator_type': 'none', 'withheld_in_countries': []}, 'geo': None, 'coordinates': None, 'place': None, 'contributors': None, 'is_quote_status': False, 'retweet_count': 0, 'favorite_count': 1, 'favorited': False, 'retweeted': False, 'possibly_sensitive': False, 'lang': 'en'}, created_at=datetime.datetime(2021, 6, 23, 0, 47, 23), id=1407500498056499202, id_str='1407500498056499202', full_text='“They’re actually making it easier for unelected judges and partisan election boards to overturn the results of an election, opening the door for some demagogue… to try and subvert our elections in the very same way that Trump tried to do in 2020.” https://t.co/KiXdXjACuu', truncated=False, display_text_range=[0, 272], entities={'hashtags': [], 'symbols': [], 'user_mentions': [], 'urls': [{'url': 'https://t.co/KiXdXjACuu', 'expanded_url': 'https://www.theguardian.com/us-news/2021/jun/22/voting-rights-bill-joe-biden-senate-democrats?CMP=Share_iOSApp_Other', 'display_url': 'theguardian.com/us-news/2021/j…', 'indices': [249, 272]}]}, metadata={'iso_language_code': 'en', 'result_type': 'recent'}, source='Twitter for iPhone', source_url='http://twitter.com/download/iphone', in_reply_to_status_id=None, in_reply_to_status_id_str=None, in_reply_to_user_id=None, in_reply_to_user_id_str=None, in_reply_to_screen_name=None, author=User(_api=<tweepy.api.API object at 0x00000290CDC719D0>, _json={'id': 565764200, 'id_str': '565764200', 'name': 'Chuck Darwin', 'screen_name': 'Chas_Darwin', 'location': 'Santa Barbara', 'description': 'Social and economic justice, technology and tennis. Chuck Darwin has yet to win a Grammy.', 'url': None, 'entities': {'description': {'urls': []}}, 'protected': False, 'followers_count': 327, 'friends_count': 592, 'listed_count': 48, 'created_at': 'Sat Apr 28 21:42:57 +0000 2012', 'favourites_count': 5362, 'utc_offset': None, 'time_zone': None, 'geo_enabled': False, 'verified': False, 'statuses_count': 38396, 'lang': None, 'contributors_enabled': False, 'is_translator': False, 'is_translation_enabled': False, 'profile_background_color': 'C6E2EE', 'profile_background_image_url': 'http://abs.twimg.com/images/themes/theme2/bg.gif', 'profile_background_image_url_https': 'https://abs.twimg.com/images/themes/theme2/bg.gif', 'profile_background_tile': False, 'profile_image_url': 'http://pbs.twimg.com/profile_images/2176354099/Darwin-Stensil_normal.jpg', 'profile_image_url_https': 'https://pbs.twimg.com/profile_images/2176354099/Darwin-Stensil_normal.jpg', 'profile_link_color': '1F98C7', 'profile_sidebar_border_color': 'C6E2EE', 'profile_sidebar_fill_color': 'DAECF4', 'profile_text_color': '663B12', 'profile_use_background_image': True, 'has_extended_profile': False, 'default_profile': False, 'default_profile_image': False, 'following': False, 'follow_request_sent': False, 'notifications': False, 'translator_type': 'none', 'withheld_in_countries': []}, id=565764200, id_str='565764200', name='Chuck Darwin', screen_name='Chas_Darwin', location='Santa Barbara', description='Social and economic justice, technology and tennis. Chuck Darwin has yet to win a Grammy.', url=None, entities={'description': {'urls': []}}, protected=False, followers_count=327, friends_count=592, listed_count=48, created_at=datetime.datetime(2012, 4, 28, 21, 42, 57), favourites_count=5362, utc_offset=None, time_zone=None, geo_enabled=False, verified=False, statuses_count=38396, lang=None, contributors_enabled=False, is_translator=False, is_translation_enabled=False, profile_background_color='C6E2EE', profile_background_image_url='http://abs.twimg.com/images/themes/theme2/bg.gif', profile_background_image_url_https='https://abs.twimg.com/images/themes/theme2/bg.gif', profile_background_tile=False, profile_image_url='http://pbs.twimg.com/profile_images/2176354099/Darwin-Stensil_normal.jpg', profile_image_url_https='https://pbs.twimg.com/profile_images/2176354099/Darwin-Stensil_normal.jpg', profile_link_color='1F98C7', profile_sidebar_border_color='C6E2EE', profile_sidebar_fill_color='DAECF4', profile_text_color='663B12', profile_use_background_image=True, has_extended_profile=False, default_profile=False, default_profile_image=False, following=False, follow_request_sent=False, notifications=False, translator_type='none', withheld_in_countries=[]), user=User(_api=<tweepy.api.API object at 0x00000290CDC719D0>, _json={'id': 565764200, 'id_str': '565764200', 'name': 'Chuck Darwin', 'screen_name': 'Chas_Darwin', 'location': 'Santa Barbara', 'description': 'Social and economic justice, technology and tennis. Chuck Darwin has yet to win a Grammy.', 'url': None, 'entities': {'description': {'urls': []}}, 'protected': False, 'followers_count': 327, 'friends_count': 592, 'listed_count': 48, 'created_at': 'Sat Apr 28 21:42:57 +0000 2012', 'favourites_count': 5362, 'utc_offset': None, 'time_zone': None, 'geo_enabled': False, 'verified': False, 'statuses_count': 38396, 'lang': None, 'contributors_enabled': False, 'is_translator': False, 'is_translation_enabled': False, 'profile_background_color': 'C6E2EE', 'profile_background_image_url': 'http://abs.twimg.com/images/themes/theme2/bg.gif', 'profile_background_image_url_https': 'https://abs.twimg.com/images/themes/theme2/bg.gif', 'profile_background_tile': False, 'profile_image_url': 'http://pbs.twimg.com/profile_images/2176354099/Darwin-Stensil_normal.jpg', 'profile_image_url_https': 'https://pbs.twimg.com/profile_images/2176354099/Darwin-Stensil_normal.jpg', 'profile_link_color': '1F98C7', 'profile_sidebar_border_color': 'C6E2EE', 'profile_sidebar_fill_color': 'DAECF4', 'profile_text_color': '663B12', 'profile_use_background_image': True, 'has_extended_profile': False, 'default_profile': False, 'default_profile_image': False, 'following': False, 'follow_request_sent': False, 'notifications': False, 'translator_type': 'none', 'withheld_in_countries': []}, id=565764200, id_str='565764200', name='Chuck Darwin', screen_name='Chas_Darwin', location='Santa Barbara', description='Social and economic justice, technology and tennis. Chuck Darwin has yet to win a Grammy.', url=None, entities={'description': {'urls': []}}, protected=False, followers_count=327, friends_count=592, listed_count=48, created_at=datetime.datetime(2012, 4, 28, 21, 42, 57), favourites_count=5362, utc_offset=None, time_zone=None, geo_enabled=False, verified=False, statuses_count=38396, lang=None, contributors_enabled=False, is_translator=False, is_translation_enabled=False, profile_background_color='C6E2EE', profile_background_image_url='http://abs.twimg.com/images/themes/theme2/bg.gif', profile_background_image_url_https='https://abs.twimg.com/images/themes/theme2/bg.gif', profile_background_tile=False, profile_image_url='http://pbs.twimg.com/profile_images/2176354099/Darwin-Stensil_normal.jpg', profile_image_url_https='https://pbs.twimg.com/profile_images/2176354099/Darwin-Stensil_normal.jpg', profile_link_color='1F98C7', profile_sidebar_border_color='C6E2EE', profile_sidebar_fill_color='DAECF4', profile_text_color='663B12', profile_use_background_image=True, has_extended_profile=False, default_profile=False, default_profile_image=False, following=False, follow_request_sent=False, notifications=False, translator_type='none', withheld_in_countries=[]), geo=None, coordinates=None, place=None, contributors=None, is_quote_status=False, retweet_count=0, favorite_count=1, favorited=False, retweeted=False, possibly_sensitive=False, lang='en')\n",
      "=================================================\n"
     ]
    }
   ],
   "source": [
    "# Lets provide the query which I need to search\n",
    "\n",
    "query = \"US election Joe Biden\"\n",
    "\n",
    "# Fetch tweets\n",
    "\n",
    "Tweets = api.search(query, count=10, lang= 'en', exclude= 'retweets', tweet_mode= 'extended')\n",
    "\n",
    "for tweet in Tweets:\n",
    "    print(tweet)\n",
    "    print(\"=================================================\")"
   ]
  },
  {
   "cell_type": "markdown",
   "metadata": {},
   "source": [
    "# Getting the Tweets and some of its related Attributes"
   ]
  },
  {
   "cell_type": "code",
   "execution_count": 6,
   "metadata": {},
   "outputs": [
    {
     "data": {
      "text/html": [
       "<div>\n",
       "<style scoped>\n",
       "    .dataframe tbody tr th:only-of-type {\n",
       "        vertical-align: middle;\n",
       "    }\n",
       "\n",
       "    .dataframe tbody tr th {\n",
       "        vertical-align: top;\n",
       "    }\n",
       "\n",
       "    .dataframe thead th {\n",
       "        text-align: right;\n",
       "    }\n",
       "</style>\n",
       "<table border=\"1\" class=\"dataframe\">\n",
       "  <thead>\n",
       "    <tr style=\"text-align: right;\">\n",
       "      <th></th>\n",
       "      <th>Tweets</th>\n",
       "      <th>User</th>\n",
       "      <th>User_statuses_count</th>\n",
       "      <th>user_followers</th>\n",
       "      <th>User_location</th>\n",
       "      <th>User_verified</th>\n",
       "      <th>fav_count</th>\n",
       "      <th>rt_count</th>\n",
       "      <th>tweet_date</th>\n",
       "    </tr>\n",
       "  </thead>\n",
       "  <tbody>\n",
       "  </tbody>\n",
       "</table>\n",
       "</div>"
      ],
      "text/plain": [
       "Empty DataFrame\n",
       "Columns: [Tweets, User, User_statuses_count, user_followers, User_location, User_verified, fav_count, rt_count, tweet_date]\n",
       "Index: []"
      ]
     },
     "execution_count": 6,
     "metadata": {},
     "output_type": "execute_result"
    }
   ],
   "source": [
    "df = pd.DataFrame(columns=[\n",
    "    'Tweets', 'User', 'User_statuses_count',\n",
    "    'user_followers', 'User_location', 'User_verified',\n",
    "    'fav_count', 'rt_count', 'tweet_date'\n",
    "])\n",
    "df"
   ]
  },
  {
   "cell_type": "markdown",
   "metadata": {},
   "source": [
    "# Importing 1000 tweets related to given topic"
   ]
  },
  {
   "cell_type": "code",
   "execution_count": 7,
   "metadata": {},
   "outputs": [],
   "source": [
    "def stream(data, file_name):\n",
    "    i=0\n",
    "    for tweet in tweepy.Cursor(api.search, q=data, count=100, lang='en').items():\n",
    "        print(i, end='\\r')\n",
    "        df.loc[i, 'Tweets'] = tweet.text\n",
    "        df.loc[i, 'User'] = tweet.user.name\n",
    "        df.loc[i, 'User_statuses_count'] = tweet.user.statuses_count\n",
    "        df.loc[i, 'user_followers'] = tweet.user.followers_count\n",
    "        df.loc[i, 'User_location'] = tweet.user.location\n",
    "        df.loc[i, 'User_verified'] = tweet.user.verified\n",
    "        df.loc[i, 'fav_count'] = tweet.favorite_count\n",
    "        df.loc[i, 'rt_count'] = tweet.retweet_count\n",
    "        df.loc[i, 'tweet_date'] = tweet.created_at\n",
    "        df.to_excel('{}.xlsx'.format(file_name))\n",
    "        i = i+1\n",
    "        if i == 1000:\n",
    "            break\n",
    "        else:\n",
    "            pass"
   ]
  },
  {
   "cell_type": "code",
   "execution_count": 8,
   "metadata": {
    "scrolled": true
   },
   "outputs": [
    {
     "name": "stdout",
     "output_type": "stream",
     "text": [
      "999\r"
     ]
    }
   ],
   "source": [
    "stream(data=[\"US election Joe Biden\"], file_name='my_tweets')  #Importing tweets"
   ]
  },
  {
   "cell_type": "code",
   "execution_count": 9,
   "metadata": {},
   "outputs": [
    {
     "data": {
      "text/html": [
       "<div>\n",
       "<style scoped>\n",
       "    .dataframe tbody tr th:only-of-type {\n",
       "        vertical-align: middle;\n",
       "    }\n",
       "\n",
       "    .dataframe tbody tr th {\n",
       "        vertical-align: top;\n",
       "    }\n",
       "\n",
       "    .dataframe thead th {\n",
       "        text-align: right;\n",
       "    }\n",
       "</style>\n",
       "<table border=\"1\" class=\"dataframe\">\n",
       "  <thead>\n",
       "    <tr style=\"text-align: right;\">\n",
       "      <th></th>\n",
       "      <th>Tweets</th>\n",
       "      <th>User</th>\n",
       "      <th>User_statuses_count</th>\n",
       "      <th>user_followers</th>\n",
       "      <th>User_location</th>\n",
       "      <th>User_verified</th>\n",
       "      <th>fav_count</th>\n",
       "      <th>rt_count</th>\n",
       "      <th>tweet_date</th>\n",
       "    </tr>\n",
       "  </thead>\n",
       "  <tbody>\n",
       "    <tr>\n",
       "      <th>0</th>\n",
       "      <td>RT @BombshellDAILY: TEXAS STATE BAR ASSOCIATIO...</td>\n",
       "      <td>C. Anthony Null</td>\n",
       "      <td>41981</td>\n",
       "      <td>1479</td>\n",
       "      <td>Corinth, MS 38834</td>\n",
       "      <td>False</td>\n",
       "      <td>0</td>\n",
       "      <td>7</td>\n",
       "      <td>2021-06-23 06:18:19</td>\n",
       "    </tr>\n",
       "    <tr>\n",
       "      <th>1</th>\n",
       "      <td>RT @BombshellDAILY: TEXAS STATE BAR ASSOCIATIO...</td>\n",
       "      <td>ABerman333</td>\n",
       "      <td>94023</td>\n",
       "      <td>1735</td>\n",
       "      <td></td>\n",
       "      <td>False</td>\n",
       "      <td>0</td>\n",
       "      <td>7</td>\n",
       "      <td>2021-06-23 06:17:34</td>\n",
       "    </tr>\n",
       "    <tr>\n",
       "      <th>2</th>\n",
       "      <td>RT @BombshellDAILY: TEXAS STATE BAR ASSOCIATIO...</td>\n",
       "      <td>Mina A.S</td>\n",
       "      <td>16419</td>\n",
       "      <td>457</td>\n",
       "      <td>London</td>\n",
       "      <td>False</td>\n",
       "      <td>0</td>\n",
       "      <td>7</td>\n",
       "      <td>2021-06-23 06:16:44</td>\n",
       "    </tr>\n",
       "    <tr>\n",
       "      <th>3</th>\n",
       "      <td>RT @BombshellDAILY: TEXAS STATE BAR ASSOCIATIO...</td>\n",
       "      <td>TC Tunstall</td>\n",
       "      <td>22240</td>\n",
       "      <td>1506</td>\n",
       "      <td>Seattle</td>\n",
       "      <td>False</td>\n",
       "      <td>0</td>\n",
       "      <td>7</td>\n",
       "      <td>2021-06-23 06:10:18</td>\n",
       "    </tr>\n",
       "    <tr>\n",
       "      <th>4</th>\n",
       "      <td>RT @BombshellDAILY: TEXAS STATE BAR ASSOCIATIO...</td>\n",
       "      <td>Adrian German</td>\n",
       "      <td>19774</td>\n",
       "      <td>2446</td>\n",
       "      <td>Bloomington, IN</td>\n",
       "      <td>False</td>\n",
       "      <td>0</td>\n",
       "      <td>7</td>\n",
       "      <td>2021-06-23 06:08:51</td>\n",
       "    </tr>\n",
       "  </tbody>\n",
       "</table>\n",
       "</div>"
      ],
      "text/plain": [
       "                                              Tweets             User  \\\n",
       "0  RT @BombshellDAILY: TEXAS STATE BAR ASSOCIATIO...  C. Anthony Null   \n",
       "1  RT @BombshellDAILY: TEXAS STATE BAR ASSOCIATIO...       ABerman333   \n",
       "2  RT @BombshellDAILY: TEXAS STATE BAR ASSOCIATIO...         Mina A.S   \n",
       "3  RT @BombshellDAILY: TEXAS STATE BAR ASSOCIATIO...      TC Tunstall   \n",
       "4  RT @BombshellDAILY: TEXAS STATE BAR ASSOCIATIO...    Adrian German   \n",
       "\n",
       "  User_statuses_count user_followers      User_location User_verified  \\\n",
       "0               41981           1479  Corinth, MS 38834         False   \n",
       "1               94023           1735                            False   \n",
       "2               16419            457             London         False   \n",
       "3               22240           1506            Seattle         False   \n",
       "4               19774           2446    Bloomington, IN         False   \n",
       "\n",
       "  fav_count rt_count           tweet_date  \n",
       "0         0        7  2021-06-23 06:18:19  \n",
       "1         0        7  2021-06-23 06:17:34  \n",
       "2         0        7  2021-06-23 06:16:44  \n",
       "3         0        7  2021-06-23 06:10:18  \n",
       "4         0        7  2021-06-23 06:08:51  "
      ]
     },
     "execution_count": 9,
     "metadata": {},
     "output_type": "execute_result"
    }
   ],
   "source": [
    "df.head()"
   ]
  },
  {
   "cell_type": "code",
   "execution_count": 10,
   "metadata": {},
   "outputs": [
    {
     "data": {
      "text/plain": [
       "(1000, 9)"
      ]
     },
     "execution_count": 10,
     "metadata": {},
     "output_type": "execute_result"
    }
   ],
   "source": [
    "df.shape"
   ]
  },
  {
   "cell_type": "code",
   "execution_count": 11,
   "metadata": {},
   "outputs": [],
   "source": [
    "from textblob import TextBlob  #importing textblob for sentiment analysis"
   ]
  },
  {
   "cell_type": "code",
   "execution_count": 12,
   "metadata": {},
   "outputs": [],
   "source": [
    "import re\n",
    "def clean_tweet(tweet):\n",
    "    return ' '.join(re.sub('(@[A-Za-z0-9]+)|([^0-9A-Za-z \\t])|(\\w+:\\/\\/\\S+)', ' ', tweet).split())"
   ]
  },
  {
   "cell_type": "code",
   "execution_count": 13,
   "metadata": {},
   "outputs": [],
   "source": [
    "def analyze_sentiment(tweet):\n",
    "    analysis = TextBlob(tweet)\n",
    "    if analysis.sentiment.polarity>0:\n",
    "        return 'Positive'\n",
    "    elif analysis.sentiment.polarity==0:\n",
    "        return 'Neutral'\n",
    "    else:\n",
    "        return 'Negative'"
   ]
  },
  {
   "cell_type": "code",
   "execution_count": 14,
   "metadata": {},
   "outputs": [],
   "source": [
    "df['clean_tweet'] = df['Tweets'].apply(lambda x: clean_tweet(x))  #cleaning tweets"
   ]
  },
  {
   "cell_type": "code",
   "execution_count": 15,
   "metadata": {},
   "outputs": [
    {
     "data": {
      "text/html": [
       "<div>\n",
       "<style scoped>\n",
       "    .dataframe tbody tr th:only-of-type {\n",
       "        vertical-align: middle;\n",
       "    }\n",
       "\n",
       "    .dataframe tbody tr th {\n",
       "        vertical-align: top;\n",
       "    }\n",
       "\n",
       "    .dataframe thead th {\n",
       "        text-align: right;\n",
       "    }\n",
       "</style>\n",
       "<table border=\"1\" class=\"dataframe\">\n",
       "  <thead>\n",
       "    <tr style=\"text-align: right;\">\n",
       "      <th></th>\n",
       "      <th>Tweets</th>\n",
       "      <th>clean_tweet</th>\n",
       "    </tr>\n",
       "  </thead>\n",
       "  <tbody>\n",
       "    <tr>\n",
       "      <th>0</th>\n",
       "      <td>RT @BombshellDAILY: TEXAS STATE BAR ASSOCIATIO...</td>\n",
       "      <td>RT TEXAS STATE BAR ASSOCIATION INVESTIGATING A...</td>\n",
       "    </tr>\n",
       "    <tr>\n",
       "      <th>1</th>\n",
       "      <td>RT @BombshellDAILY: TEXAS STATE BAR ASSOCIATIO...</td>\n",
       "      <td>RT TEXAS STATE BAR ASSOCIATION INVESTIGATING A...</td>\n",
       "    </tr>\n",
       "    <tr>\n",
       "      <th>2</th>\n",
       "      <td>RT @BombshellDAILY: TEXAS STATE BAR ASSOCIATIO...</td>\n",
       "      <td>RT TEXAS STATE BAR ASSOCIATION INVESTIGATING A...</td>\n",
       "    </tr>\n",
       "    <tr>\n",
       "      <th>3</th>\n",
       "      <td>RT @BombshellDAILY: TEXAS STATE BAR ASSOCIATIO...</td>\n",
       "      <td>RT TEXAS STATE BAR ASSOCIATION INVESTIGATING A...</td>\n",
       "    </tr>\n",
       "    <tr>\n",
       "      <th>4</th>\n",
       "      <td>RT @BombshellDAILY: TEXAS STATE BAR ASSOCIATIO...</td>\n",
       "      <td>RT TEXAS STATE BAR ASSOCIATION INVESTIGATING A...</td>\n",
       "    </tr>\n",
       "  </tbody>\n",
       "</table>\n",
       "</div>"
      ],
      "text/plain": [
       "                                              Tweets  \\\n",
       "0  RT @BombshellDAILY: TEXAS STATE BAR ASSOCIATIO...   \n",
       "1  RT @BombshellDAILY: TEXAS STATE BAR ASSOCIATIO...   \n",
       "2  RT @BombshellDAILY: TEXAS STATE BAR ASSOCIATIO...   \n",
       "3  RT @BombshellDAILY: TEXAS STATE BAR ASSOCIATIO...   \n",
       "4  RT @BombshellDAILY: TEXAS STATE BAR ASSOCIATIO...   \n",
       "\n",
       "                                         clean_tweet  \n",
       "0  RT TEXAS STATE BAR ASSOCIATION INVESTIGATING A...  \n",
       "1  RT TEXAS STATE BAR ASSOCIATION INVESTIGATING A...  \n",
       "2  RT TEXAS STATE BAR ASSOCIATION INVESTIGATING A...  \n",
       "3  RT TEXAS STATE BAR ASSOCIATION INVESTIGATING A...  \n",
       "4  RT TEXAS STATE BAR ASSOCIATION INVESTIGATING A...  "
      ]
     },
     "execution_count": 15,
     "metadata": {},
     "output_type": "execute_result"
    }
   ],
   "source": [
    "df[['Tweets','clean_tweet']].head()"
   ]
  },
  {
   "cell_type": "code",
   "execution_count": 16,
   "metadata": {},
   "outputs": [],
   "source": [
    "df['Sentiment'] = df['clean_tweet'].apply(lambda x: analyze_sentiment(x))   #analysis"
   ]
  },
  {
   "cell_type": "code",
   "execution_count": 17,
   "metadata": {},
   "outputs": [
    {
     "data": {
      "text/html": [
       "<div>\n",
       "<style scoped>\n",
       "    .dataframe tbody tr th:only-of-type {\n",
       "        vertical-align: middle;\n",
       "    }\n",
       "\n",
       "    .dataframe tbody tr th {\n",
       "        vertical-align: top;\n",
       "    }\n",
       "\n",
       "    .dataframe thead th {\n",
       "        text-align: right;\n",
       "    }\n",
       "</style>\n",
       "<table border=\"1\" class=\"dataframe\">\n",
       "  <thead>\n",
       "    <tr style=\"text-align: right;\">\n",
       "      <th></th>\n",
       "      <th>clean_tweet</th>\n",
       "      <th>Sentiment</th>\n",
       "    </tr>\n",
       "  </thead>\n",
       "  <tbody>\n",
       "    <tr>\n",
       "      <th>0</th>\n",
       "      <td>RT TEXAS STATE BAR ASSOCIATION INVESTIGATING A...</td>\n",
       "      <td>Neutral</td>\n",
       "    </tr>\n",
       "    <tr>\n",
       "      <th>1</th>\n",
       "      <td>RT TEXAS STATE BAR ASSOCIATION INVESTIGATING A...</td>\n",
       "      <td>Neutral</td>\n",
       "    </tr>\n",
       "    <tr>\n",
       "      <th>2</th>\n",
       "      <td>RT TEXAS STATE BAR ASSOCIATION INVESTIGATING A...</td>\n",
       "      <td>Neutral</td>\n",
       "    </tr>\n",
       "    <tr>\n",
       "      <th>3</th>\n",
       "      <td>RT TEXAS STATE BAR ASSOCIATION INVESTIGATING A...</td>\n",
       "      <td>Neutral</td>\n",
       "    </tr>\n",
       "    <tr>\n",
       "      <th>4</th>\n",
       "      <td>RT TEXAS STATE BAR ASSOCIATION INVESTIGATING A...</td>\n",
       "      <td>Neutral</td>\n",
       "    </tr>\n",
       "  </tbody>\n",
       "</table>\n",
       "</div>"
      ],
      "text/plain": [
       "                                         clean_tweet Sentiment\n",
       "0  RT TEXAS STATE BAR ASSOCIATION INVESTIGATING A...   Neutral\n",
       "1  RT TEXAS STATE BAR ASSOCIATION INVESTIGATING A...   Neutral\n",
       "2  RT TEXAS STATE BAR ASSOCIATION INVESTIGATING A...   Neutral\n",
       "3  RT TEXAS STATE BAR ASSOCIATION INVESTIGATING A...   Neutral\n",
       "4  RT TEXAS STATE BAR ASSOCIATION INVESTIGATING A...   Neutral"
      ]
     },
     "execution_count": 17,
     "metadata": {},
     "output_type": "execute_result"
    }
   ],
   "source": [
    "df[['clean_tweet','Sentiment']].head()"
   ]
  },
  {
   "cell_type": "code",
   "execution_count": 18,
   "metadata": {},
   "outputs": [],
   "source": [
    "pd.set_option('display.max_rows', 500)\n",
    "pd.set_option('display.max_columns', 500)\n",
    "pd.set_option('display.width', 1000)"
   ]
  },
  {
   "cell_type": "code",
   "execution_count": 19,
   "metadata": {},
   "outputs": [
    {
     "data": {
      "text/html": [
       "<div>\n",
       "<style scoped>\n",
       "    .dataframe tbody tr th:only-of-type {\n",
       "        vertical-align: middle;\n",
       "    }\n",
       "\n",
       "    .dataframe tbody tr th {\n",
       "        vertical-align: top;\n",
       "    }\n",
       "\n",
       "    .dataframe thead th {\n",
       "        text-align: right;\n",
       "    }\n",
       "</style>\n",
       "<table border=\"1\" class=\"dataframe\">\n",
       "  <thead>\n",
       "    <tr style=\"text-align: right;\">\n",
       "      <th></th>\n",
       "      <th>clean_tweet</th>\n",
       "      <th>Sentiment</th>\n",
       "    </tr>\n",
       "  </thead>\n",
       "  <tbody>\n",
       "    <tr>\n",
       "      <th>0</th>\n",
       "      <td>RT TEXAS STATE BAR ASSOCIATION INVESTIGATING A...</td>\n",
       "      <td>Neutral</td>\n",
       "    </tr>\n",
       "    <tr>\n",
       "      <th>1</th>\n",
       "      <td>RT TEXAS STATE BAR ASSOCIATION INVESTIGATING A...</td>\n",
       "      <td>Neutral</td>\n",
       "    </tr>\n",
       "    <tr>\n",
       "      <th>2</th>\n",
       "      <td>RT TEXAS STATE BAR ASSOCIATION INVESTIGATING A...</td>\n",
       "      <td>Neutral</td>\n",
       "    </tr>\n",
       "    <tr>\n",
       "      <th>3</th>\n",
       "      <td>RT TEXAS STATE BAR ASSOCIATION INVESTIGATING A...</td>\n",
       "      <td>Neutral</td>\n",
       "    </tr>\n",
       "    <tr>\n",
       "      <th>4</th>\n",
       "      <td>RT TEXAS STATE BAR ASSOCIATION INVESTIGATING A...</td>\n",
       "      <td>Neutral</td>\n",
       "    </tr>\n",
       "  </tbody>\n",
       "</table>\n",
       "</div>"
      ],
      "text/plain": [
       "                                         clean_tweet Sentiment\n",
       "0  RT TEXAS STATE BAR ASSOCIATION INVESTIGATING A...   Neutral\n",
       "1  RT TEXAS STATE BAR ASSOCIATION INVESTIGATING A...   Neutral\n",
       "2  RT TEXAS STATE BAR ASSOCIATION INVESTIGATING A...   Neutral\n",
       "3  RT TEXAS STATE BAR ASSOCIATION INVESTIGATING A...   Neutral\n",
       "4  RT TEXAS STATE BAR ASSOCIATION INVESTIGATING A...   Neutral"
      ]
     },
     "execution_count": 19,
     "metadata": {},
     "output_type": "execute_result"
    }
   ],
   "source": [
    "df[['clean_tweet','Sentiment']].head()"
   ]
  },
  {
   "cell_type": "code",
   "execution_count": 20,
   "metadata": {},
   "outputs": [
    {
     "name": "stdout",
     "output_type": "stream",
     "text": [
      "                                              Tweets             User User_statuses_count user_followers      User_location User_verified fav_count rt_count           tweet_date                                        clean_tweet Sentiment\n",
      "0  RT @BombshellDAILY: TEXAS STATE BAR ASSOCIATIO...  C. Anthony Null               41981           1479  Corinth, MS 38834         False         0        7  2021-06-23 06:18:19  RT TEXAS STATE BAR ASSOCIATION INVESTIGATING A...   Neutral\n",
      "1  RT @BombshellDAILY: TEXAS STATE BAR ASSOCIATIO...       ABerman333               94023           1735                            False         0        7  2021-06-23 06:17:34  RT TEXAS STATE BAR ASSOCIATION INVESTIGATING A...   Neutral\n",
      "2  RT @BombshellDAILY: TEXAS STATE BAR ASSOCIATIO...         Mina A.S               16419            457             London         False         0        7  2021-06-23 06:16:44  RT TEXAS STATE BAR ASSOCIATION INVESTIGATING A...   Neutral\n",
      "3  RT @BombshellDAILY: TEXAS STATE BAR ASSOCIATIO...      TC Tunstall               22240           1506            Seattle         False         0        7  2021-06-23 06:10:18  RT TEXAS STATE BAR ASSOCIATION INVESTIGATING A...   Neutral\n",
      "4  RT @BombshellDAILY: TEXAS STATE BAR ASSOCIATIO...    Adrian German               19774           2446    Bloomington, IN         False         0        7  2021-06-23 06:08:51  RT TEXAS STATE BAR ASSOCIATION INVESTIGATING A...   Neutral\n",
      "(1000, 11)\n"
     ]
    }
   ],
   "source": [
    "print(df.head())\n",
    "print(df.shape)"
   ]
  },
  {
   "cell_type": "markdown",
   "metadata": {},
   "source": [
    "# Picking up random tweets from 1000"
   ]
  },
  {
   "cell_type": "code",
   "execution_count": 21,
   "metadata": {},
   "outputs": [
    {
     "name": "stdout",
     "output_type": "stream",
     "text": [
      "Original Tweet:\n",
      "“They’re actually making it easier for unelected judges and partisan election boards to overturn the results of an… https://t.co/5LVJOwhXTO\n",
      "\n",
      "Clean Tweet:\n",
      "They re actually making it easier for unelected judges and partisan election boards to overturn the results of an\n",
      "\n",
      "Sentiment:\n",
      "Neutral\n"
     ]
    }
   ],
   "source": [
    "n = 20\n",
    "print('Original Tweet:\\n'+df['Tweets'][n])\n",
    "print()\n",
    "print('Clean Tweet:\\n'+df['clean_tweet'][n])\n",
    "print()\n",
    "print(\"Sentiment:\\n\"+df['Sentiment'][n])"
   ]
  },
  {
   "cell_type": "code",
   "execution_count": 22,
   "metadata": {},
   "outputs": [
    {
     "name": "stdout",
     "output_type": "stream",
     "text": [
      "Original Tweet:\n",
      "RT @CNN: Iranian President-elect Ebrahim Raisi ruled out a meeting with President Joe Biden and called on the US to return to the nuclear d…\n",
      "\n",
      "Clean Tweet:\n",
      "RT Iranian President elect Ebrahim Raisi ruled out a meeting with President Joe Biden and called on the US to return to the nuclear d\n",
      "\n",
      "Sentiment:\n",
      "Positive\n"
     ]
    }
   ],
   "source": [
    "n = 202\n",
    "print('Original Tweet:\\n'+df['Tweets'][n])\n",
    "print()\n",
    "print('Clean Tweet:\\n'+df['clean_tweet'][n])\n",
    "print()\n",
    "print(\"Sentiment:\\n\"+df['Sentiment'][n])"
   ]
  },
  {
   "cell_type": "code",
   "execution_count": 23,
   "metadata": {},
   "outputs": [
    {
     "name": "stdout",
     "output_type": "stream",
     "text": [
      "Original Tweet:\n",
      "RT @TheCB_News: Do you believe that Joe Biden fairly and legitimately won the 2020 presidential election? Let us get your thoughts on this…\n",
      "\n",
      "Clean Tweet:\n",
      "RT News Do you believe that Joe Biden fairly and legitimately won the 2020 presidential election Let us get your thoughts on this\n",
      "\n",
      "Sentiment:\n",
      "Positive\n"
     ]
    }
   ],
   "source": [
    "n = 50\n",
    "print('Original Tweet:\\n'+df['Tweets'][n])\n",
    "print()\n",
    "print('Clean Tweet:\\n'+df['clean_tweet'][n])\n",
    "print()\n",
    "print(\"Sentiment:\\n\"+df['Sentiment'][n])"
   ]
  },
  {
   "cell_type": "markdown",
   "metadata": {},
   "source": [
    "# Getting the sum of Positive, Negative, Neutral sentiments"
   ]
  },
  {
   "cell_type": "code",
   "execution_count": 24,
   "metadata": {},
   "outputs": [
    {
     "data": {
      "text/plain": [
       "572"
      ]
     },
     "execution_count": 24,
     "metadata": {},
     "output_type": "execute_result"
    }
   ],
   "source": [
    "df[df.Sentiment=='Positive'].shape[0]"
   ]
  },
  {
   "cell_type": "code",
   "execution_count": 25,
   "metadata": {},
   "outputs": [
    {
     "data": {
      "text/plain": [
       "317"
      ]
     },
     "execution_count": 25,
     "metadata": {},
     "output_type": "execute_result"
    }
   ],
   "source": [
    "df[df.Sentiment=='Neutral'].shape[0]"
   ]
  },
  {
   "cell_type": "code",
   "execution_count": 26,
   "metadata": {},
   "outputs": [
    {
     "data": {
      "text/plain": [
       "111"
      ]
     },
     "execution_count": 26,
     "metadata": {},
     "output_type": "execute_result"
    }
   ],
   "source": [
    "df[df.Sentiment=='Negative'].shape[0]"
   ]
  },
  {
   "cell_type": "markdown",
   "metadata": {},
   "source": [
    "# Conclusion"
   ]
  },
  {
   "cell_type": "markdown",
   "metadata": {},
   "source": [
    "# Data= \"US election Joe Biden\"\n",
    "## Positive = 572\n",
    "## Neutral = 317\n",
    "## Negative = 111"
   ]
  }
 ],
 "metadata": {
  "kernelspec": {
   "display_name": "Python 3",
   "language": "python",
   "name": "python3"
  },
  "language_info": {
   "codemirror_mode": {
    "name": "ipython",
    "version": 3
   },
   "file_extension": ".py",
   "mimetype": "text/x-python",
   "name": "python",
   "nbconvert_exporter": "python",
   "pygments_lexer": "ipython3",
   "version": "3.8.5"
  }
 },
 "nbformat": 4,
 "nbformat_minor": 4
}
