{
 "cells": [
  {
   "cell_type": "code",
   "execution_count": 1,
   "metadata": {},
   "outputs": [],
   "source": [
    "import nltk\n",
    "from nltk.chat.util import Chat, reflections"
   ]
  },
  {
   "cell_type": "code",
   "execution_count": 2,
   "metadata": {},
   "outputs": [],
   "source": [
    "reflections = {\n",
    "  \"i am\"       : \"you are\",\n",
    "  \"i was\"      : \"you were\",\n",
    "  \"i\"          : \"you\",\n",
    "  \"i'm\"        : \"you are\",\n",
    "  \"i'd\"        : \"you would\",\n",
    "  \"i've\"       : \"you have\",\n",
    "  \"i'll\"       : \"you will\",\n",
    "  \"my\"         : \"your\",\n",
    "  \"you are\"    : \"I am\",\n",
    "  \"you were\"   : \"I was\",\n",
    "  \"you've\"     : \"I have\",\n",
    "  \"you'll\"     : \"I will\",\n",
    "  \"your\"       : \"my\",\n",
    "  \"yours\"      : \"mine\",\n",
    "  \"you\"        : \"me\",\n",
    "  \"me\"         : \"you\"\n",
    "}"
   ]
  },
  {
   "cell_type": "code",
   "execution_count": 3,
   "metadata": {},
   "outputs": [],
   "source": [
    "pairs = [\n",
    "    [\n",
    "        r\"Commerce|comm|com|b\",\n",
    "        [\"For B.Com Ms.Nazia Maldar 9405954806. \\nFor BBA Ms.Ameena Sabooni 8766460520. \\nFor BBA (CA) Asst. Prof.Samad Khan 8668563274/9890308632/9823546885/8007266576. \\nFor M.Com Ms.Asiya Pathan 7498514843. \\nFor Admission visit https://aisc.vriddhionline.com/ \\nGet register yourself fill form and visit Respected Department. \\n Can I help with anything else? \\n Yes or No\"]\n",
    "    ],\n",
    "    [\n",
    "        r\"hi|hey|hello\",\n",
    "        [\"Hello, How can I Help you. \\n1) Admission enquiry, \\n2) Complaint, \\n3) Know About Us, \\n4) Prospectus, \\n5) Notice and circular\"]\n",
    "    ], \n",
    "    [\n",
    "        r\"Admission enquiry |admission |enquiry |1\",\n",
    "        [\"Thank You for your response. Can I know Stream? \\na) Science, \\nb) Commerce, \\nc) Arts\"]\n",
    "    ],\n",
    "    [\n",
    "        r\"Science|sci|a\",\n",
    "        [\"For B.Sc Dr. Naseem Deshpande 9420496820. \\nFor B.Sc Computer Science-Ms. Vijaya Pise 8793322371. \\nFor BCA(Science) Asst. Prof. Mohsin Tamboli 9096777860/9096636862. \\nFor B.Voc(data Science) Asst.Prof. Niraj Bagwe 9823558226. \\nFor B.Voc(Retail Managt.) Sajjan Salauddin 7719854790. \\nFor M.ScMaths Yashwant Madke 8830726741. \\nFor M.ScChemistry Siraj Shaikh 9922570014. \\nFor M.ScMicrobiology Dr.Madhavi Rane 9850575313. \\nFor M.ScCompSci. Sana Shaikh 9403190799. \\nFor Admission visit https://aisc.vriddhionline.com/ \\nGet register yourself fill form and visit Respected Department. \\n Can I help with anything else? \\n Yes or No\"]\n",
    "    ],\n",
    "    [\n",
    "        r\"Arts|c\",\n",
    "        [\"For B.A Dr. Ketaki Bhosle 9850919967.\\nFor M.A English Shaheen Patel 9673986906. \\nFor M.A Economics Rahul More 8793637776. \\nFor M.A Urdu Mehjabeen Shaikh 7263044987. \\nFor M.A Sociology Shafia Shaikh 9503676576. \\nFor M.A Pol.Sci. Ali Malegaonkar 9049741447. \\nFor Admission visit https://aisc.vriddhionline.com/  \\nGet register yourself fill form and visit Respected Department. \\n Can I help with anything else? \\n Yes or No\"]\n",
    "    ],\n",
    "    [\n",
    "        r\"no|n\",\n",
    "        [\"BBye take care. See you soon :) \",\"It was nice talking to you. See you soon :)\"]\n",
    "    ],\n",
    "    [\n",
    "        r\"yes|y\",\n",
    "        [\"How can I Help you. \\n1) Admission enquiry, \\n2) Complaint, \\n3) Know About Us, \\n4) Prospectus, \\n5) Notice and circular\"]\n",
    "    ],\n",
    "    [\n",
    "        r\"Complaint|2\",\n",
    "        [\"Do you want register complain, Track the complaint\"]\n",
    "    ],\n",
    "    [\n",
    "        r\"register complaint|register\",\n",
    "        [\"You can Register Complaint at https://www.abedainamdarcollege.org.in/grievance_redressal .  \\n Can I help with anything else? \\n Yes or No\"]\n",
    "    ],\n",
    "    [\n",
    "        r\"Track complaint|Track\",\n",
    "        ['You can Track Complaint at https://www.abedainamdarcollege.org.in/grievance_redressal . \\nCan I help with anything else? \\n Yes or No']\n",
    "    ],\n",
    "    [\n",
    "        r\"Know about us|3\",\n",
    "        [\"You can details about us on this Link- https://www.abedainamdarcollege.org.in/about_us \\nCan I help with anything else? \\n Yes or No\"]\n",
    "    ],\n",
    "    [\n",
    "        r\"Prospectus|4 \",\n",
    "        [\"Please Visit https://www.abedainamdarcollege.org.in/prospectus \\nCan I help with anything else? \\n Yes or No\"]\n",
    "    ],\n",
    "    [\n",
    "        r\"Notice and circular|Notice|circular|5\",\n",
    "        [\"To know latest Notice and Circular \\nCan I help with anything else? \\n Yes or No\"]\n",
    "    ],\n",
    "    [\n",
    "        r\" \",\n",
    "        [\"Sorry! I dind't got you\"]\n",
    "    ],\n",
    "]"
   ]
  },
  {
   "cell_type": "code",
   "execution_count": null,
   "metadata": {},
   "outputs": [
    {
     "name": "stdout",
     "output_type": "stream",
     "text": [
      "Hi! I am a chatbot created by Abeda Inamdar Senior College\n"
     ]
    }
   ],
   "source": [
    "def chat():\n",
    "    print(\"Hi! I am a chatbot created by Abeda Inamdar Senior College\")\n",
    "    chat = Chat(pairs, reflections)\n",
    "    chat.converse()\n",
    "if __name__ == \"__main__\":\n",
    "    chat()"
   ]
  }
 ],
 "metadata": {
  "kernelspec": {
   "display_name": "Python 3",
   "language": "python",
   "name": "python3"
  },
  "language_info": {
   "codemirror_mode": {
    "name": "ipython",
    "version": 3
   },
   "file_extension": ".py",
   "mimetype": "text/x-python",
   "name": "python",
   "nbconvert_exporter": "python",
   "pygments_lexer": "ipython3",
   "version": "3.8.5"
  }
 },
 "nbformat": 4,
 "nbformat_minor": 4
}
